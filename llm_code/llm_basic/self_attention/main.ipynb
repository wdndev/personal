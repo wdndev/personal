{
 "cells": [
  {
   "cell_type": "markdown",
   "metadata": {},
   "source": [
    "# 注意力 Attention"
   ]
  },
  {
   "cell_type": "markdown",
   "metadata": {},
   "source": [
    "## 1.理论"
   ]
  },
  {
   "cell_type": "markdown",
   "metadata": {},
   "source": [
    "### 1.1 直观理解"
   ]
  },
  {
   "cell_type": "markdown",
   "metadata": {},
   "source": [
    "![1](images/seq2seq.jpg)\n",
    "\n",
    "From：https://arxiv.org/pdf/1703.03906.pdf"
   ]
  },
  {
   "cell_type": "markdown",
   "metadata": {},
   "source": [
    "![](./images/seq2seq2.gif)\n",
    "\n",
    "From: https://github.com/google/seq2seq"
   ]
  },
  {
   "cell_type": "markdown",
   "metadata": {},
   "source": [
    "### 1.2 Attention 计算"
   ]
  },
  {
   "cell_type": "markdown",
   "metadata": {},
   "source": [
    "加性Attention，如（Bahdanau attention）：\n",
    "\n",
    "$$\n",
    "\\boldsymbol{v}_a^{\\top} \\tanh \\left(\\boldsymbol{W}_{\\mathbf{1}} \\boldsymbol{h}_t+\\boldsymbol{W}_{\\mathbf{2}} \\overline{\\boldsymbol{h}}_s\\right)\n",
    "$$"
   ]
  },
  {
   "cell_type": "markdown",
   "metadata": {},
   "source": [
    "乘性Attention，如（Luong attention）：\n",
    "\n",
    "$$\n",
    "\\operatorname{score}\\left(\\boldsymbol{h}_{t}, \\overline{\\boldsymbol{h}}_{s}\\right)=\\left\\{\\begin{array}{ll}\n",
    "\\boldsymbol{h}_{t}^{\\top} \\overline{\\boldsymbol{h}}_{s} & \\text { dot } \\\\\n",
    "\\boldsymbol{h}_{t}^{\\top} \\boldsymbol{W}_{a} \\overline{\\boldsymbol{h}}_{s} & \\text { general } \\\\\n",
    "\\boldsymbol{v}_{a}^{\\top} \\tanh \\left(\\boldsymbol{W}_{a}\\left[\\boldsymbol{h}_{t} ; \\overline{\\boldsymbol{h}}_{s}\\right]\\right) & \\text { concat }\n",
    "\\end{array}\\right.\n",
    "$$"
   ]
  },
  {
   "cell_type": "markdown",
   "metadata": {},
   "source": [
    "### 1.3 自注意力"
   ]
  },
  {
   "cell_type": "markdown",
   "metadata": {},
   "source": [
    "#### （1）自注意力计算"
   ]
  },
  {
   "cell_type": "markdown",
   "metadata": {},
   "source": [
    "\"Attention is All You Need\" 这篇论文提出了Multi-Head Self-Attention，是一种：Scaled Dot-Product Attention。\n",
    "\n",
    "$$\n",
    "\\operatorname{Attention}(Q, K, V)=\\operatorname{softmax}\\left(\\frac{Q K^T}{\\sqrt{d_k}}\\right) V\n",
    "$$\n",
    "\n",
    "From：https://arxiv.org/pdf/1706.03762.pdf"
   ]
  },
  {
   "cell_type": "markdown",
   "metadata": {},
   "source": [
    "#### （2）缩放 Scaled"
   ]
  },
  {
   "cell_type": "markdown",
   "metadata": {},
   "source": [
    "Scaled 的目的是调节内积，使其结果不至于太大（太大的话softmax后就非0即1了，不够“soft”了）。\n",
    "\n",
    "From: https://kexue.fm/archives/4765"
   ]
  },
  {
   "cell_type": "markdown",
   "metadata": {},
   "source": [
    "#### （3）Multi-Head"
   ]
  },
  {
   "cell_type": "markdown",
   "metadata": {},
   "source": [
    "\n",
    "Multi-Head可以理解为多个注意力模块，期望不同注意力模块“注意”到不一样的地方，类似于CNN的Kernel。\n",
    "\n",
    ">Multi-head attention allows the model to jointly attend to information from different representation\n",
    "subspaces at different positions.\n",
    "\n",
    "$$\n",
    "\\begin{aligned}\n",
    "\\operatorname{MultiHead}(Q, K, V) & =\\operatorname{Concat}\\left(\\operatorname{head}_1, \\ldots, \\text { head }_{\\mathrm{h}}\\right) W^O \\\\\n",
    "\\text { where head }_{\\mathrm{i}} & =\\operatorname{Attention}\\left(Q W_i^Q, K W_i^K, V W_i^V\\right)\n",
    "\\end{aligned}\n",
    "$$\n",
    "\n",
    "\n",
    "\n",
    "From: https://arxiv.org/pdf/1706.03762.pdf"
   ]
  },
  {
   "cell_type": "markdown",
   "metadata": {},
   "source": [
    "## 2.实践"
   ]
  },
  {
   "cell_type": "markdown",
   "metadata": {},
   "source": [
    "### 2.1 包导入"
   ]
  },
  {
   "cell_type": "code",
   "execution_count": 1,
   "metadata": {},
   "outputs": [],
   "source": [
    "from dataclasses import dataclass\n",
    "import torch\n",
    "import torch.nn as nn\n",
    "import torch.nn.functional as F"
   ]
  },
  {
   "cell_type": "code",
   "execution_count": 2,
   "metadata": {},
   "outputs": [],
   "source": [
    "from mha import MultiHeadAttention"
   ]
  },
  {
   "cell_type": "markdown",
   "metadata": {},
   "source": [
    "### 2.2 模型"
   ]
  },
  {
   "cell_type": "markdown",
   "metadata": {},
   "source": [
    "只用一个核心的SelfAttention模块（可支持Single-Head或Multi-Head），来学习理解Attention机制。"
   ]
  },
  {
   "cell_type": "code",
   "execution_count": 3,
   "metadata": {},
   "outputs": [],
   "source": [
    "class Model(nn.Module):\n",
    "    \n",
    "    def __init__(self, nhead, vocab_size, embedding_dim, num_labels, dropout=0.1):\n",
    "        super().__init__()\n",
    "        self.emb = nn.Embedding(vocab_size, embedding_dim)\n",
    "        self.attn = MultiHeadAttention(nhead, embedding_dim, dropout)\n",
    "        self.fc = nn.Linear(embedding_dim, num_labels)\n",
    "    \n",
    "    def forward(self, x):\n",
    "        batch_size, seq_len = x.shape\n",
    "        h = self.emb(x)\n",
    "        attn_score, h = self.attn(h)\n",
    "        h = F.avg_pool1d(h.permute(0, 2, 1), seq_len, 1)\n",
    "        h = h.squeeze(-1)\n",
    "        logits = self.fc(h)\n",
    "\n",
    "        return attn_score, logits"
   ]
  },
  {
   "cell_type": "code",
   "execution_count": 4,
   "metadata": {},
   "outputs": [],
   "source": [
    "# 参数设置\n",
    "vocab_size: int = 5000\n",
    "embedding_dim: int = 512\n",
    "num_heads: int = 16\n",
    "dropout: float = 0.1\n",
    "\n",
    "num_labels: int = 2\n",
    "\n",
    "max_seq_len: int = 512\n",
    "\n",
    "num_epochs: int = 10"
   ]
  },
  {
   "cell_type": "code",
   "execution_count": 5,
   "metadata": {},
   "outputs": [],
   "source": [
    "model = Model(num_heads, vocab_size, embedding_dim, num_labels, dropout)"
   ]
  },
  {
   "cell_type": "code",
   "execution_count": 6,
   "metadata": {},
   "outputs": [
    {
     "data": {
      "text/plain": [
       "torch.Size([3, 30])"
      ]
     },
     "execution_count": 6,
     "metadata": {},
     "output_type": "execute_result"
    }
   ],
   "source": [
    "x = torch.randint(0, 5000, (3, 30))\n",
    "x.shape"
   ]
  },
  {
   "cell_type": "code",
   "execution_count": 7,
   "metadata": {},
   "outputs": [
    {
     "data": {
      "text/plain": [
       "(torch.Size([3, 16, 30, 30]), torch.Size([3, 2]))"
      ]
     },
     "execution_count": 7,
     "metadata": {},
     "output_type": "execute_result"
    }
   ],
   "source": [
    "attn, logits = model(x)\n",
    "attn.shape, logits.shape"
   ]
  },
  {
   "cell_type": "markdown",
   "metadata": {},
   "source": [
    "### 2.3 数据"
   ]
  },
  {
   "cell_type": "markdown",
   "metadata": {},
   "source": [
    "#### （1）读取数据"
   ]
  },
  {
   "cell_type": "code",
   "execution_count": 8,
   "metadata": {},
   "outputs": [],
   "source": [
    "import pandas as pd\n",
    "from sklearn.model_selection import train_test_split"
   ]
  },
  {
   "cell_type": "code",
   "execution_count": 9,
   "metadata": {},
   "outputs": [],
   "source": [
    "file_path = \"datasets/ChnSentiCorp_htl_all.csv\"\n",
    "\n",
    "df = pd.read_csv(file_path)\n",
    "df = df.dropna()"
   ]
  },
  {
   "cell_type": "code",
   "execution_count": 10,
   "metadata": {},
   "outputs": [
    {
     "data": {
      "text/plain": [
       "(   label                                             review\n",
       " 0      1  距离川沙公路较近,但是公交指示不对,如果是\"蔡陆线\"的话,会非常麻烦.建议用别的路线.房间较...\n",
       " 1      1                       商务大床房，房间很大，床有2M宽，整体感觉经济实惠不错!\n",
       " 2      1         早餐太差，无论去多少人，那边也不加食品的。酒店应该重视一下这个问题了。房间本身很好。\n",
       " 3      1  宾馆在小街道上，不大好找，但还好北京热心同胞很多~宾馆设施跟介绍的差不多，房间很小，确实挺小...\n",
       " 4      1               CBD中心,周围没什么店铺,说5星有点勉强.不知道为什么卫生间没有电吹风,\n",
       " (7765, 2))"
      ]
     },
     "execution_count": 10,
     "metadata": {},
     "output_type": "execute_result"
    }
   ],
   "source": [
    "df.head(), df.shape"
   ]
  },
  {
   "cell_type": "code",
   "execution_count": 11,
   "metadata": {},
   "outputs": [
    {
     "data": {
      "text/plain": [
       "label\n",
       "1    5322\n",
       "0    2443\n",
       "Name: count, dtype: int64"
      ]
     },
     "execution_count": 11,
     "metadata": {},
     "output_type": "execute_result"
    }
   ],
   "source": [
    "df.label.value_counts()"
   ]
  },
  {
   "cell_type": "markdown",
   "metadata": {},
   "source": [
    "数据不均衡，采样"
   ]
  },
  {
   "cell_type": "code",
   "execution_count": 12,
   "metadata": {},
   "outputs": [
    {
     "data": {
      "text/plain": [
       "(4943, 2)"
      ]
     },
     "execution_count": 12,
     "metadata": {},
     "output_type": "execute_result"
    }
   ],
   "source": [
    "df = pd.concat([df[df.label==1].sample(2500), df[df.label==0]])\n",
    "df.shape"
   ]
  },
  {
   "cell_type": "code",
   "execution_count": 13,
   "metadata": {},
   "outputs": [
    {
     "data": {
      "text/plain": [
       "label\n",
       "1    2500\n",
       "0    2443\n",
       "Name: count, dtype: int64"
      ]
     },
     "execution_count": 13,
     "metadata": {},
     "output_type": "execute_result"
    }
   ],
   "source": [
    "df.label.value_counts()"
   ]
  },
  {
   "cell_type": "markdown",
   "metadata": {},
   "source": [
    "#### （2）Tokenizer"
   ]
  },
  {
   "cell_type": "code",
   "execution_count": 14,
   "metadata": {},
   "outputs": [],
   "source": [
    "from tokenizer import Tokenizer"
   ]
  },
  {
   "cell_type": "code",
   "execution_count": 15,
   "metadata": {},
   "outputs": [],
   "source": [
    "tokenizer = Tokenizer(vocab_size=vocab_size, max_seq_len=max_seq_len)"
   ]
  },
  {
   "cell_type": "code",
   "execution_count": 16,
   "metadata": {},
   "outputs": [
    {
     "name": "stderr",
     "output_type": "stream",
     "text": [
      "Building prefix dict from the default dictionary ...\n",
      "Loading model from cache C:\\Users\\dd\\AppData\\Local\\Temp\\jieba.cache\n",
      "Loading model cost 0.470 seconds.\n",
      "Prefix dict has been built successfully.\n"
     ]
    }
   ],
   "source": [
    "tokenizer.build_vocab(df.review)"
   ]
  },
  {
   "cell_type": "code",
   "execution_count": 17,
   "metadata": {},
   "outputs": [
    {
     "data": {
      "text/plain": [
       "tensor([[4436,    0,    0,  ...,    0,    0,    0],\n",
       "        [4436, 1012,    0,  ...,    0,    0,    0]])"
      ]
     },
     "execution_count": 17,
     "metadata": {},
     "output_type": "execute_result"
    }
   ],
   "source": [
    "tokenizer([\"你好\", \"你好呀\"])"
   ]
  },
  {
   "cell_type": "markdown",
   "metadata": {},
   "source": [
    "#### （3）数据加载"
   ]
  },
  {
   "cell_type": "code",
   "execution_count": 18,
   "metadata": {},
   "outputs": [],
   "source": [
    "def collate_batch(batch):\n",
    "    label_list, text_list = [], []\n",
    "    for v in batch:\n",
    "        _label = v[\"label\"]\n",
    "        _text = v[\"text\"]\n",
    "        label_list.append(_label)\n",
    "        text_list.append(_text)\n",
    "    inputs = tokenizer(text_list)\n",
    "    labels = torch.LongTensor(label_list)\n",
    "    return inputs, labels"
   ]
  },
  {
   "cell_type": "code",
   "execution_count": 19,
   "metadata": {},
   "outputs": [],
   "source": [
    "from dataset import Dataset\n",
    "\n",
    "ds = Dataset()\n",
    "ds.build(df, \"review\", \"label\")"
   ]
  },
  {
   "cell_type": "code",
   "execution_count": 20,
   "metadata": {},
   "outputs": [
    {
     "data": {
      "text/plain": [
       "(4943,\n",
       " {'text': '4月份回青岛顺便带朋友去玩的，为他们选择的就是该酒店，房间干净整洁，但是卫生间的设施太简陋，房间内有小冰箱，考虑的比较周到，如果卫生间设备好一点就更好了！服务人员的态度非常好，没有给我们青岛人丢脸，电话随叫随到。',\n",
       "  'label': 1})"
      ]
     },
     "execution_count": 20,
     "metadata": {},
     "output_type": "execute_result"
    }
   ],
   "source": [
    "len(ds), ds[0]"
   ]
  },
  {
   "cell_type": "code",
   "execution_count": 21,
   "metadata": {},
   "outputs": [
    {
     "data": {
      "text/plain": [
       "(3558, 396, 989)"
      ]
     },
     "execution_count": 21,
     "metadata": {},
     "output_type": "execute_result"
    }
   ],
   "source": [
    "train_ds, test_ds = train_test_split(ds, test_size=0.2)\n",
    "train_ds, valid_ds = train_test_split(train_ds, test_size=0.1)\n",
    "len(train_ds), len(valid_ds), len(test_ds)"
   ]
  },
  {
   "cell_type": "code",
   "execution_count": 22,
   "metadata": {},
   "outputs": [],
   "source": [
    "from torch.utils.data import DataLoader"
   ]
  },
  {
   "cell_type": "code",
   "execution_count": 23,
   "metadata": {},
   "outputs": [],
   "source": [
    "BATCH_SIZE = 8"
   ]
  },
  {
   "cell_type": "code",
   "execution_count": 24,
   "metadata": {},
   "outputs": [
    {
     "data": {
      "text/plain": [
       "(445, 50, 124)"
      ]
     },
     "execution_count": 24,
     "metadata": {},
     "output_type": "execute_result"
    }
   ],
   "source": [
    "train_dl = DataLoader(train_ds, batch_size=BATCH_SIZE, collate_fn=collate_batch)\n",
    "valid_dl = DataLoader(valid_ds, batch_size=BATCH_SIZE, collate_fn=collate_batch)\n",
    "test_dl = DataLoader(test_ds, batch_size=BATCH_SIZE, collate_fn=collate_batch)\n",
    "len(train_dl), len(valid_dl), len(test_dl)"
   ]
  },
  {
   "cell_type": "code",
   "execution_count": 25,
   "metadata": {},
   "outputs": [],
   "source": [
    "for v in train_dl: break"
   ]
  },
  {
   "cell_type": "code",
   "execution_count": 26,
   "metadata": {},
   "outputs": [
    {
     "data": {
      "text/plain": [
       "(torch.Size([8, 512]), torch.Size([8]), torch.int64, torch.int64)"
      ]
     },
     "execution_count": 26,
     "metadata": {},
     "output_type": "execute_result"
    }
   ],
   "source": [
    "v[0].shape, v[1].shape, v[0].dtype, v[1].dtype"
   ]
  },
  {
   "cell_type": "markdown",
   "metadata": {},
   "source": [
    "### 2.4 训练"
   ]
  },
  {
   "cell_type": "code",
   "execution_count": 27,
   "metadata": {},
   "outputs": [],
   "source": [
    "from trainer import train, test"
   ]
  },
  {
   "cell_type": "code",
   "execution_count": 34,
   "metadata": {},
   "outputs": [
    {
     "name": "stdout",
     "output_type": "stream",
     "text": [
      "Epoch [1/10]\n",
      "Iter: 445,  Train Loss: 0.60,  Train Acc: 0.75,  Val Loss: 0.49,  Val Acc: 0.77\n",
      "Epoch [2/10]\n",
      "Iter: 890,  Train Loss: 0.52,  Train Acc: 0.75,  Val Loss: 0.47,  Val Acc: 0.77\n",
      "Epoch [3/10]\n",
      "Iter: 1335,  Train Loss: 0.50,  Train Acc: 0.75,  Val Loss: 0.45,  Val Acc: 0.78\n",
      "Epoch [4/10]\n",
      "Iter: 1780,  Train Loss: 0.45,  Train Acc: 0.75,  Val Loss: 0.44,  Val Acc: 0.79\n",
      "Epoch [5/10]\n",
      "Iter: 2225,  Train Loss: 0.47,  Train Acc: 0.88,  Val Loss: 0.42,  Val Acc: 0.82\n",
      "Epoch [6/10]\n",
      "Iter: 2670,  Train Loss: 0.40,  Train Acc: 0.88,  Val Loss: 0.40,  Val Acc: 0.84\n",
      "Epoch [7/10]\n",
      "Iter: 3115,  Train Loss: 0.34,  Train Acc: 0.88,  Val Loss: 0.38,  Val Acc: 0.84\n",
      "Epoch [8/10]\n",
      "Iter: 3560,  Train Loss: 0.30,  Train Acc: 0.88,  Val Loss: 0.36,  Val Acc: 0.86\n",
      "Epoch [9/10]\n",
      "Iter: 4005,  Train Loss: 0.29,  Train Acc: 0.88,  Val Loss: 0.35,  Val Acc: 0.87\n",
      "Epoch [10/10]\n",
      "Iter: 4450,  Train Loss: 0.30,  Train Acc: 0.88,  Val Loss: 0.34,  Val Acc: 0.87\n"
     ]
    },
    {
     "data": {
      "text/plain": [
       "0.815187478500172"
      ]
     },
     "execution_count": 34,
     "metadata": {},
     "output_type": "execute_result"
    }
   ],
   "source": [
    "NUM_EPOCHS = 10\n",
    "device = torch.device(\"cuda:0\" if torch.cuda.is_available() else \"cpu\")\n",
    "\n",
    "# 参数设置\n",
    "vocab_size: int = 5000\n",
    "embedding_dim: int = 64\n",
    "num_heads: int = 2\n",
    "dropout: float = 0.1\n",
    "num_labels: int = 2\n",
    "\n",
    "max_seq_len: int = 512\n",
    "num_epochs: int = 10\n",
    "\n",
    "model = Model(num_heads, vocab_size, embedding_dim, num_labels, dropout)\n",
    "model.to(device)\n",
    "optimizer = torch.optim.Adam(model.parameters(), lr=1e-3, weight_decay=1e-3)\n",
    "train(model, optimizer, train_dl, valid_dl, num_epochs)\n",
    "\n",
    "test(model, test_dl)"
   ]
  },
  {
   "cell_type": "markdown",
   "metadata": {},
   "source": [
    "### 2.5 推理"
   ]
  },
  {
   "cell_type": "code",
   "execution_count": 35,
   "metadata": {},
   "outputs": [],
   "source": [
    "from inference import infer\n",
    "import numpy as np"
   ]
  },
  {
   "cell_type": "code",
   "execution_count": 36,
   "metadata": {},
   "outputs": [
    {
     "name": "stdout",
     "output_type": "stream",
     "text": [
      "{'text': '很适宜居住，环境幽静，服务台较好。我满意', 'label': 1}\n"
     ]
    },
    {
     "data": {
      "text/plain": [
       "(['很', '适宜', '居住', '，', '环境', '幽静', '，', '服务台', '较', '好', '。', '我', '满意'], 1)"
      ]
     },
     "execution_count": 36,
     "metadata": {},
     "output_type": "execute_result"
    }
   ],
   "source": [
    "sample = np.random.choice(test_ds)\n",
    "while len(sample[\"text\"]) > 20:\n",
    "    sample = np.random.choice(test_ds)\n",
    "\n",
    "print(sample)\n",
    "\n",
    "inp = sample[\"text\"]\n",
    "inputs = tokenizer(inp)\n",
    "attn, prob = infer(model, inputs.to(device))\n",
    "attn_prob = attn[0, 0, :, :].cpu().numpy()\n",
    "tokens = tokenizer.tokenize(inp)\n",
    "tokens, prob"
   ]
  },
  {
   "cell_type": "code",
   "execution_count": 37,
   "metadata": {},
   "outputs": [],
   "source": [
    "import matplotlib.pyplot as plt\n",
    "from matplotlib import rcParams\n",
    "import numpy as np\n",
    "\n",
    "rcParams['font.family'] = 'SimHei'\n",
    "\n",
    "def plot_attention(attention_weights, source_words, target_words):\n",
    "    plt.figure(figsize=(10, 8))\n",
    "    plt.imshow(attention_weights, interpolation='nearest', cmap='Blues')\n",
    "    \n",
    "    plt.xlabel('Source')\n",
    "    plt.ylabel('Target')\n",
    "\n",
    "    plt.xticks(np.arange(0, len(source_words)), source_words, rotation=45)\n",
    "    plt.yticks(np.arange(0, len(target_words)), target_words)\n",
    "    \n",
    "    plt.colorbar()\n",
    "    plt.tight_layout()\n",
    "    # plt.savefig(\"a.png\")\n",
    "    plt.show()\n",
    "    "
   ]
  },
  {
   "cell_type": "code",
   "execution_count": 38,
   "metadata": {},
   "outputs": [
    {
     "data": {
      "image/png": "[encoded data removed]",
      "text/plain": [
       "<Figure size 1000x800 with 2 Axes>"
      ]
     },
     "metadata": {},
     "output_type": "display_data"
    }
   ],
   "source": [
    "plot_attention(attn_prob, tokens, tokens)"
   ]
  },
  {
   "cell_type": "code",
   "execution_count": 39,
   "metadata": {},
   "outputs": [
    {
     "data": {
      "text/plain": [
       "2682"
      ]
     },
     "execution_count": 39,
     "metadata": {},
     "output_type": "execute_result"
    }
   ],
   "source": [
    "tokenizer.get_freq_of(\"不\")"
   ]
  },
  {
   "cell_type": "code",
   "execution_count": null,
   "metadata": {},
   "outputs": [],
   "source": []
  }
 ],
 "metadata": {
  "kernelspec": {
   "display_name": "Python 3 (ipykernel)",
   "language": "python",
   "name": "python3"
  },
  "language_info": {
   "codemirror_mode": {
    "name": "ipython",
    "version": 3
   },
   "file_extension": ".py",
   "mimetype": "text/x-python",
   "name": "python",
   "nbconvert_exporter": "python",
   "pygments_lexer": "ipython3",
   "version": "3.10.13"
  }
 },
 "nbformat": 4,
 "nbformat_minor": 4
}
