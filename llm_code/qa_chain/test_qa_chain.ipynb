{
 "cells": [
  {
   "cell_type": "code",
   "execution_count": 1,
   "metadata": {},
   "outputs": [
    {
     "name": "stdout",
     "output_type": "stream",
     "text": [
      "当前目录: e:\\02Personal\\personal\\llm_code\\qa_chain\n"
     ]
    }
   ],
   "source": [
    "import sys \n",
    "sys.path.append(\"..\")\n",
    "import os\n",
    "\n",
    "from qa_chain import QAChain, QAChainWithHistory\n",
    "\n",
    "current_directory = os.getcwd()\n",
    "print(\"当前目录:\", current_directory)"
   ]
  },
  {
   "cell_type": "markdown",
   "metadata": {},
   "source": [
    "## 1.带历史记录的问答链"
   ]
  },
  {
   "cell_type": "markdown",
   "metadata": {},
   "source": [
    "### 1.1 初始化"
   ]
  },
  {
   "cell_type": "code",
   "execution_count": 13,
   "metadata": {},
   "outputs": [
    {
     "name": "stdout",
     "output_type": "stream",
     "text": [
      "c15a02af9bc40a3e7fa8508bdb447f2d.cQO2JxTkIfVp5lFj\n"
     ]
    }
   ],
   "source": [
    "from dotenv import find_dotenv, load_dotenv\n",
    "import os\n",
    "\n",
    "# 读取本地/项目的环境变量。\n",
    "\n",
    "# find_dotenv()寻找并定位.env文件的路径\n",
    "# load_dotenv()读取该.env文件，并将其中的环境变量加载到当前的运行环境中\n",
    "# 如果你设置的是全局的环境变量，这行代码则没有任何作用。\n",
    "_ = load_dotenv(find_dotenv())\n",
    "\n",
    "zhipuai_api_key = os.environ[\"zhipuai_api_key\"]    #填写控制台中获取的 APIKey 信息\n",
    "print(zhipuai_api_key)"
   ]
  },
  {
   "cell_type": "code",
   "execution_count": 3,
   "metadata": {},
   "outputs": [],
   "source": [
    "\n",
    "# 定义参数\n",
    "# model可选值：[\"gpt-3.5-turbo\", \"gpt-3.5-turbo-16k-0613\", \"gpt-3.5-turbo-0613\", \"gpt-4\", \"gpt-4-32k\"]，[\"ERNIE-Bot\", \"ERNIE-Bot-4\", \"ERNIE-Bot-turbo\"]，\n",
    "# [\"Spark-1.5\", \"Spark-2.0\"]，[\"chatglm_pro\", \"chatglm_std\", \"chatglm_lite\"]\n",
    "model:str = \"chatglm_std\"\n",
    "temperature:float=0.0\n",
    "top_k:int=4 \n",
    "chat_history:list=[] \n",
    "file_path:str = \"../database/knowledge_db\"\n",
    "persist_path:str = \"../database/vector_zhipuai_db\"\n",
    "appid:str=None \n",
    "api_key:str = zhipuai_api_key   #or 从本地环境读取\n",
    "api_secret:str=None \n",
    "embedding = \"zhipuai\"     # [\"openai\",\"zhipuai\"]  默认openai\n",
    "embedding_key = zhipuai_api_key"
   ]
  },
  {
   "cell_type": "code",
   "execution_count": 4,
   "metadata": {},
   "outputs": [
    {
     "name": "stdout",
     "output_type": "stream",
     "text": [
      "<qa_chain.QAChainWithHistory object at 0x0000021D05AA6110>\n"
     ]
    }
   ],
   "source": [
    "qa_chain = QAChainWithHistory(model=model, \n",
    "                              temperature=temperature, \n",
    "                              top_k=top_k, \n",
    "                              chat_history=chat_history, \n",
    "                              file_path=file_path, \n",
    "                              persist_path=persist_path, \n",
    "                              api_key=api_key, \n",
    "                              embedding = embedding, \n",
    "                              embedding_key=embedding_key)\n",
    "print(qa_chain)"
   ]
  },
  {
   "cell_type": "markdown",
   "metadata": {},
   "source": [
    "### 1.2 多轮对话"
   ]
  },
  {
   "cell_type": "markdown",
   "metadata": {},
   "source": [
    "#### （1）第一轮"
   ]
  },
  {
   "cell_type": "code",
   "execution_count": 9,
   "metadata": {},
   "outputs": [],
   "source": [
    "question = \"这是一种什么样的编程语言？\"\n",
    "answer, chat_history = qa_chain.answer(question)"
   ]
  },
  {
   "cell_type": "code",
   "execution_count": 10,
   "metadata": {},
   "outputs": [
    {
     "name": "stdout",
     "output_type": "stream",
     "text": [
      "C++是一种通用的、面向对象的编程语言，它是C语言的扩展。C++具有丰富的功能，既支持结构化编程，也支持面向对象编程。C++在C语言的基础上增加了许多特性，如类、对象、继承、多态、模板等，使得C++可以更有效地进行软件开发。C++的应用领域广泛，包括操作系统、设备驱动、游戏开发、网络编程、嵌入式系统等。\\n\\nC++的语法与C语言相近，但在结构、类、函数等方面有很大的不同。C++中的类不仅可以包含成员变量，还可以包含成员函数，而且对于类的成员访问权限和继承权限有明确的规定。C++支持动态内存分配和释放，提供了new和delete关键字。此外，C++还具有虚函数和多态特性，可以实现“一个接口，多种形态”的效果。C++的标准库包含了许多实用功能，如STL（标准模板库），可以大大提高开发效率。\\n\\n总之，C++是一种功能丰富、应用广泛的编程语言，既适合底层开发，也适合高层开发。\n",
      "[('这是一种什么样的编程语言？', '这是一道关于编程语言的问题，根据提供的信息，无法直接回答这个问题。请提供更多关于想要了解的编程语言的信息，我会尽力帮助您。'), ('请简要介绍一下，它有那些特点，主要知识有哪些？', 'C++是一种通用的、编译型的编程语言，它是C语言的增强版，为了支持面向对象编程而设计。C++具有以下特点：\\\\n\\\\n1. 面向对象：C++提供了类（class）和对象（object）的概念，支持封装、继承和多态等面向对象编程特性。\\\\n\\\\n2. 泛型编程：C++提供了模板（template）功能，允许程序员以一种通用、抽象的方式编写代码，使得相同的代码逻辑能够应用于多种数据类型。\\\\n\\\\n3. 增强的C语言特性：C++兼容C语言的大部分语法和库函数，同时增加了诸如构造函数、析构函数、运算符重载等特性。\\\\n\\\\n4. 良好的性能：C++编译后的程序运行速度较快，因为它是编译型语言，且支持底层硬件操作。\\\\n\\\\nC++的主要知识点包括：\\\\n\\\\n1. 面向对象：类、对象、封装、继承、多态、虚函数、指针、引用等。\\\\n\\\\n2. 泛型编程：模板、参数化类型、实例化等。\\\\n\\\\n3. C++标准库：STL（Standard Template Library）提供了丰富的容器、算法和迭代器等组件，方便程序员进行编程。\\\\n\\\\n4. 输入输出：文件操作、标准输入输出流（iostream）等。\\\\n\\\\n5. 错误处理：异常处理、错误代码等。\\\\n\\\\n6. 内存管理：动态内存分配（new/malloc）、释放（delete/free）等。\\\\n\\\\n7. 并发编程：线程、锁、互斥量等。\\\\n\\\\n8. 网络编程：套接字、HTTP、FTP等。\\\\n\\\\n9. 异常处理：try-catch-finally语句、异常类等。\\\\n\\\\n10. 其他特性：extern C、volatile关键字、强制类型转换等。\\\\n\\\\n总之，C++是一种功能丰富、性能优越的编程语言，广泛应用于系统开发、嵌入式开发、游戏开发等领域。'), ('这是一种什么样的编程语言？', 'C++是一种通用的、面向对象的编程语言，它是C语言的扩展。C++具有丰富的功能，既支持结构化编程，也支持面向对象编程。C++在C语言的基础上增加了许多特性，如类、对象、继承、多态、模板等，使得C++可以更有效地进行软件开发。C++的应用领域广泛，包括操作系统、设备驱动、游戏开发、网络编程、嵌入式系统等。\\\\n\\\\nC++的语法与C语言相近，但在结构、类、函数等方面有很大的不同。C++中的类不仅可以包含成员变量，还可以包含成员函数，而且对于类的成员访问权限和继承权限有明确的规定。C++支持动态内存分配和释放，提供了new和delete关键字。此外，C++还具有虚函数和多态特性，可以实现“一个接口，多种形态”的效果。C++的标准库包含了许多实用功能，如STL（标准模板库），可以大大提高开发效率。\\\\n\\\\n总之，C++是一种功能丰富、应用广泛的编程语言，既适合底层开发，也适合高层开发。')]\n"
     ]
    }
   ],
   "source": [
    "print(answer)\n",
    "print(chat_history)"
   ]
  },
  {
   "cell_type": "markdown",
   "metadata": {},
   "source": [
    "#### （2）第二轮"
   ]
  },
  {
   "cell_type": "code",
   "execution_count": 7,
   "metadata": {},
   "outputs": [],
   "source": [
    "question = \"请简要介绍一下，它有那些特点，主要知识有哪些？\"\n",
    "answer, chat_history = qa_chain.answer(question)"
   ]
  },
  {
   "cell_type": "code",
   "execution_count": 8,
   "metadata": {},
   "outputs": [
    {
     "name": "stdout",
     "output_type": "stream",
     "text": [
      "C++是一种通用的、编译型的编程语言，它是C语言的增强版，为了支持面向对象编程而设计。C++具有以下特点：\\n\\n1. 面向对象：C++提供了类（class）和对象（object）的概念，支持封装、继承和多态等面向对象编程特性。\\n\\n2. 泛型编程：C++提供了模板（template）功能，允许程序员以一种通用、抽象的方式编写代码，使得相同的代码逻辑能够应用于多种数据类型。\\n\\n3. 增强的C语言特性：C++兼容C语言的大部分语法和库函数，同时增加了诸如构造函数、析构函数、运算符重载等特性。\\n\\n4. 良好的性能：C++编译后的程序运行速度较快，因为它是编译型语言，且支持底层硬件操作。\\n\\nC++的主要知识点包括：\\n\\n1. 面向对象：类、对象、封装、继承、多态、虚函数、指针、引用等。\\n\\n2. 泛型编程：模板、参数化类型、实例化等。\\n\\n3. C++标准库：STL（Standard Template Library）提供了丰富的容器、算法和迭代器等组件，方便程序员进行编程。\\n\\n4. 输入输出：文件操作、标准输入输出流（iostream）等。\\n\\n5. 错误处理：异常处理、错误代码等。\\n\\n6. 内存管理：动态内存分配（new/malloc）、释放（delete/free）等。\\n\\n7. 并发编程：线程、锁、互斥量等。\\n\\n8. 网络编程：套接字、HTTP、FTP等。\\n\\n9. 异常处理：try-catch-finally语句、异常类等。\\n\\n10. 其他特性：extern C、volatile关键字、强制类型转换等。\\n\\n总之，C++是一种功能丰富、性能优越的编程语言，广泛应用于系统开发、嵌入式开发、游戏开发等领域。\n",
      "[('这是一种什么样的编程语言？', '这是一道关于编程语言的问题，根据提供的信息，无法直接回答这个问题。请提供更多关于想要了解的编程语言的信息，我会尽力帮助您。'), ('请简要介绍一下，它有那些特点，主要知识有哪些？', 'C++是一种通用的、编译型的编程语言，它是C语言的增强版，为了支持面向对象编程而设计。C++具有以下特点：\\\\n\\\\n1. 面向对象：C++提供了类（class）和对象（object）的概念，支持封装、继承和多态等面向对象编程特性。\\\\n\\\\n2. 泛型编程：C++提供了模板（template）功能，允许程序员以一种通用、抽象的方式编写代码，使得相同的代码逻辑能够应用于多种数据类型。\\\\n\\\\n3. 增强的C语言特性：C++兼容C语言的大部分语法和库函数，同时增加了诸如构造函数、析构函数、运算符重载等特性。\\\\n\\\\n4. 良好的性能：C++编译后的程序运行速度较快，因为它是编译型语言，且支持底层硬件操作。\\\\n\\\\nC++的主要知识点包括：\\\\n\\\\n1. 面向对象：类、对象、封装、继承、多态、虚函数、指针、引用等。\\\\n\\\\n2. 泛型编程：模板、参数化类型、实例化等。\\\\n\\\\n3. C++标准库：STL（Standard Template Library）提供了丰富的容器、算法和迭代器等组件，方便程序员进行编程。\\\\n\\\\n4. 输入输出：文件操作、标准输入输出流（iostream）等。\\\\n\\\\n5. 错误处理：异常处理、错误代码等。\\\\n\\\\n6. 内存管理：动态内存分配（new/malloc）、释放（delete/free）等。\\\\n\\\\n7. 并发编程：线程、锁、互斥量等。\\\\n\\\\n8. 网络编程：套接字、HTTP、FTP等。\\\\n\\\\n9. 异常处理：try-catch-finally语句、异常类等。\\\\n\\\\n10. 其他特性：extern C、volatile关键字、强制类型转换等。\\\\n\\\\n总之，C++是一种功能丰富、性能优越的编程语言，广泛应用于系统开发、嵌入式开发、游戏开发等领域。')]\n"
     ]
    }
   ],
   "source": [
    "print(answer)\n",
    "print(chat_history)"
   ]
  },
  {
   "cell_type": "markdown",
   "metadata": {},
   "source": [
    "### 1.3 改变历史记录的长度"
   ]
  },
  {
   "cell_type": "code",
   "execution_count": 11,
   "metadata": {},
   "outputs": [
    {
     "name": "stdout",
     "output_type": "stream",
     "text": [
      "[('这是一种什么样的编程语言？', 'C++是一种通用的、面向对象的编程语言，它是C语言的扩展。C++具有丰富的功能，既支持结构化编程，也支持面向对象编程。C++在C语言的基础上增加了许多特性，如类、对象、继承、多态、模板等，使得C++可以更有效地进行软件开发。C++的应用领域广泛，包括操作系统、设备驱动、游戏开发、网络编程、嵌入式系统等。\\\\n\\\\nC++的语法与C语言相近，但在结构、类、函数等方面有很大的不同。C++中的类不仅可以包含成员变量，还可以包含成员函数，而且对于类的成员访问权限和继承权限有明确的规定。C++支持动态内存分配和释放，提供了new和delete关键字。此外，C++还具有虚函数和多态特性，可以实现“一个接口，多种形态”的效果。C++的标准库包含了许多实用功能，如STL（标准模板库），可以大大提高开发效率。\\\\n\\\\n总之，C++是一种功能丰富、应用广泛的编程语言，既适合底层开发，也适合高层开发。')]\n"
     ]
    }
   ],
   "source": [
    "history_len = 1 \n",
    "\n",
    "### 改变历史记录的长度,使用的是history_len参数来改变保留历史记录的长度\n",
    "chat_history = qa_chain.change_history_length(history_len)\n",
    "print(chat_history)"
   ]
  },
  {
   "cell_type": "markdown",
   "metadata": {},
   "source": [
    "### 1.4 清楚历史记录"
   ]
  },
  {
   "cell_type": "code",
   "execution_count": 12,
   "metadata": {},
   "outputs": [
    {
     "name": "stdout",
     "output_type": "stream",
     "text": [
      "None\n"
     ]
    }
   ],
   "source": [
    "chat_history = qa_chain.clear_history()\n",
    "print(chat_history)"
   ]
  },
  {
   "cell_type": "markdown",
   "metadata": {},
   "source": [
    "## 2.不带历史记录的问答链"
   ]
  },
  {
   "cell_type": "markdown",
   "metadata": {},
   "source": [
    "### 2.1 初始化"
   ]
  },
  {
   "cell_type": "code",
   "execution_count": 14,
   "metadata": {},
   "outputs": [
    {
     "name": "stdout",
     "output_type": "stream",
     "text": [
      "c15a02af9bc40a3e7fa8508bdb447f2d.cQO2JxTkIfVp5lFj\n"
     ]
    }
   ],
   "source": [
    "from dotenv import find_dotenv, load_dotenv\n",
    "import os\n",
    "\n",
    "# 读取本地/项目的环境变量。\n",
    "\n",
    "# find_dotenv()寻找并定位.env文件的路径\n",
    "# load_dotenv()读取该.env文件，并将其中的环境变量加载到当前的运行环境中\n",
    "# 如果你设置的是全局的环境变量，这行代码则没有任何作用。\n",
    "_ = load_dotenv(find_dotenv())\n",
    "\n",
    "zhipuai_api_key = os.environ[\"zhipuai_api_key\"]    #填写控制台中获取的 APIKey 信息\n",
    "print(zhipuai_api_key)"
   ]
  },
  {
   "cell_type": "code",
   "execution_count": 15,
   "metadata": {},
   "outputs": [],
   "source": [
    "# 定义参数\n",
    "# model可选值：[\"gpt-3.5-turbo\", \"gpt-3.5-turbo-16k-0613\", \"gpt-3.5-turbo-0613\", \"gpt-4\", \"gpt-4-32k\"]，[\"ERNIE-Bot\", \"ERNIE-Bot-4\", \"ERNIE-Bot-turbo\"]，\n",
    "# [\"Spark-1.5\", \"Spark-2.0\"]，[\"chatglm_pro\", \"chatglm_std\", \"chatglm_lite\"]\n",
    "model:str = \"chatglm_std\"\n",
    "temperature:float=0.0\n",
    "top_k:int=4 \n",
    "chat_history:list=[] \n",
    "file_path:str = \"../database/knowledge_db\"\n",
    "persist_path:str = \"../database/vector_zhipuai_db\"\n",
    "appid:str=None \n",
    "api_key:str = zhipuai_api_key   #or 从本地环境读取\n",
    "api_secret:str=None \n",
    "embedding = \"zhipuai\"     # [\"openai\",\"zhipuai\"]  默认openai\n",
    "embedding_key = zhipuai_api_key"
   ]
  },
  {
   "cell_type": "markdown",
   "metadata": {},
   "source": [
    "### 2.2 使用不同的模型"
   ]
  },
  {
   "cell_type": "code",
   "execution_count": 16,
   "metadata": {},
   "outputs": [
    {
     "name": "stdout",
     "output_type": "stream",
     "text": [
      "<qa_chain.QAChain object at 0x0000021D155A1900>\n"
     ]
    }
   ],
   "source": [
    "#星火输入参数用法\n",
    "#qa_chain = QA_chain_self(model=model, temperature=temperature, top_k=top_k, file_path=file_path, persist_path=persist_path, appid=appid,api_key=api_key,Spark_api_secret=Spark_api_secret, embedding = embedding,embedding_key=embedding_key)\n",
    "\n",
    "##百度文心输入参数用法\n",
    "#qa_chain = QA_chain_self(model=model, temperature=temperature, top_k=top_k, file_path=file_path, persist_path=persist_path, appid=appid,api_key=api_key,Wenxin_api_secret=Wenxin_api_secret, embedding = embedding,embedding_key=embedding_key)\n",
    "\n",
    "#智谱(或OpenAI)输入参数用法\n",
    "qa_chain = QAChain(model=model, temperature=temperature, top_k=top_k, file_path=file_path, persist_path=persist_path, appid=appid,api_key=api_key, embedding = embedding,embedding_key=embedding_key)\n",
    "print(qa_chain)"
   ]
  },
  {
   "cell_type": "code",
   "execution_count": 17,
   "metadata": {},
   "outputs": [],
   "source": [
    "question = \"什么时候该用C++？\"\n",
    "answer = qa_chain.answer(question)"
   ]
  },
  {
   "cell_type": "code",
   "execution_count": 18,
   "metadata": {},
   "outputs": [
    {
     "name": "stdout",
     "output_type": "stream",
     "text": [
      "C++是一种支持面向对象编程的语言，当您需要在程序设计中实现抽象、封装、继承和多态等特性时，可以选择使用C++。C++还具有诸如模板、异常处理、运算符重载等功能，可以帮助您更有效地解决问题。此外，C++可以直接访问硬件，具有较高的执行效率，适用于对性能要求较高的场景。谢谢你的提问！\n"
     ]
    }
   ],
   "source": [
    "print(answer)"
   ]
  },
  {
   "cell_type": "code",
   "execution_count": null,
   "metadata": {},
   "outputs": [],
   "source": []
  }
 ],
 "metadata": {
  "kernelspec": {
   "display_name": "llm",
   "language": "python",
   "name": "python3"
  },
  "language_info": {
   "codemirror_mode": {
    "name": "ipython",
    "version": 3
   },
   "file_extension": ".py",
   "mimetype": "text/x-python",
   "name": "python",
   "nbconvert_exporter": "python",
   "pygments_lexer": "ipython3",
   "version": "3.10.13"
  }
 },
 "nbformat": 4,
 "nbformat_minor": 2
}
