{
 "metadata": {
  "language_info": {
   "codemirror_mode": {
    "name": "ipython",
    "version": 3
   },
   "file_extension": ".py",
   "mimetype": "text/x-python",
   "name": "python",
   "nbconvert_exporter": "python",
   "pygments_lexer": "ipython3",
   "version": "3.6.8-final"
  },
  "orig_nbformat": 2,
  "kernelspec": {
   "name": "python3",
   "display_name": "Python 3",
   "language": "python"
  }
 },
 "nbformat": 4,
 "nbformat_minor": 2,
 "cells": [
  {
   "source": [
    "### softmax分类\n",
    "\n",
    "神经网络的原始输出不是一个概率值，实质上只是输入的数值做了复杂的甲醛和与非线性处理之后的一个值。\n",
    "\n",
    "softmax要求每个样本必须属于某个分类，且所有可能的样本均被覆盖。\n",
    "\n",
    "softmax 各样本分量之和为1，当只有两个分类时，与对数几率回归完全相同。\n",
    "\n",
    "### tf.keras交叉熵\n",
    "\n",
    "在tf.keras中，对于多分类问题我们使用`categorical_crocessentropy`和`aparse_categorical_crossentropy`来计算softmax交叉熵\n",
    "\n",
    "#### Fashion MNIST 数据集\n",
    "\n",
    "使用 60000 张图像训练网络，并使用 10000 张图像评估经过学习的网络分类图像的准确率。\n"
   ],
   "cell_type": "markdown",
   "metadata": {}
  },
  {
   "source": [
    "#### 导入库"
   ],
   "cell_type": "markdown",
   "metadata": {}
  },
  {
   "cell_type": "code",
   "execution_count": 3,
   "metadata": {},
   "outputs": [],
   "source": [
    "import tensorflow as tf"
   ]
  },
  {
   "cell_type": "code",
   "execution_count": 4,
   "metadata": {},
   "outputs": [
    {
     "output_type": "stream",
     "name": "stdout",
     "text": [
      "tensorflow version: 2.2.0\n"
     ]
    }
   ],
   "source": [
    "print('tensorflow version: {}'.format(tf.__version__))"
   ]
  },
  {
   "cell_type": "code",
   "execution_count": 5,
   "metadata": {},
   "outputs": [],
   "source": [
    "import pandas as pd\n",
    "import numpy as np \n",
    "import matplotlib.pyplot as plt \n",
    "%matplotlib inline"
   ]
  },
  {
   "source": [
    "#### keras内置 Fashion MNIST 数据集，加载数据集\n",
    "\n",
    "先在 `/usr/.keras/datasets` 文件夹下寻找，是否下载，若没有下载，从国外网站下载，速度较慢"
   ],
   "cell_type": "markdown",
   "metadata": {}
  },
  {
   "cell_type": "code",
   "execution_count": 6,
   "metadata": {},
   "outputs": [],
   "source": [
    "(train_image, train_label), (test_image, test_label) = tf.keras.datasets.fashion_mnist.load_data()"
   ]
  },
  {
   "cell_type": "code",
   "execution_count": null,
   "metadata": {},
   "outputs": [],
   "source": []
  }
 ]
}