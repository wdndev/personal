{
 "metadata": {
  "language_info": {
   "codemirror_mode": {
    "name": "ipython",
    "version": 3
   },
   "file_extension": ".py",
   "mimetype": "text/x-python",
   "name": "python",
   "nbconvert_exporter": "python",
   "pygments_lexer": "ipython3",
   "version": "3.6.8-final"
  },
  "orig_nbformat": 2,
  "kernelspec": {
   "name": "python3",
   "display_name": "Python 3",
   "language": "python"
  }
 },
 "nbformat": 4,
 "nbformat_minor": 2,
 "cells": [
  {
   "source": [
    "### 多层感知器代码实现"
   ],
   "cell_type": "markdown",
   "metadata": {}
  },
  {
   "cell_type": "code",
   "execution_count": 1,
   "metadata": {},
   "outputs": [],
   "source": [
    "import tensorflow as tf"
   ]
  },
  {
   "cell_type": "code",
   "execution_count": 2,
   "metadata": {},
   "outputs": [
    {
     "output_type": "stream",
     "name": "stdout",
     "text": [
      "tensorflow version: 2.2.0\n"
     ]
    }
   ],
   "source": [
    "print(\"tensorflow version: {}\".format(tf.__version__))"
   ]
  },
  {
   "cell_type": "code",
   "execution_count": 3,
   "metadata": {},
   "outputs": [],
   "source": [
    "import pandas as pd \n",
    "import numpy as np \n",
    "import matplotlib.pyplot as plt \n",
    "%matplotlib inline"
   ]
  },
  {
   "cell_type": "code",
   "execution_count": 4,
   "metadata": {},
   "outputs": [],
   "source": [
    "data = pd.read_csv('dataset/03/Advertising.csv')"
   ]
  },
  {
   "cell_type": "code",
   "execution_count": 5,
   "metadata": {},
   "outputs": [
    {
     "output_type": "execute_result",
     "data": {
      "text/plain": [
       "   Unnamed: 0     TV  radio  newspaper  sales\n",
       "0           1  230.1   37.8       69.2   22.1\n",
       "1           2   44.5   39.3       45.1   10.4\n",
       "2           3   17.2   45.9       69.3    9.3\n",
       "3           4  151.5   41.3       58.5   18.5\n",
       "4           5  180.8   10.8       58.4   12.9"
      ],
      "text/html": "<div>\n<style scoped>\n    .dataframe tbody tr th:only-of-type {\n        vertical-align: middle;\n    }\n\n    .dataframe tbody tr th {\n        vertical-align: top;\n    }\n\n    .dataframe thead th {\n        text-align: right;\n    }\n</style>\n<table border=\"1\" class=\"dataframe\">\n  <thead>\n    <tr style=\"text-align: right;\">\n      <th></th>\n      <th>Unnamed: 0</th>\n      <th>TV</th>\n      <th>radio</th>\n      <th>newspaper</th>\n      <th>sales</th>\n    </tr>\n  </thead>\n  <tbody>\n    <tr>\n      <th>0</th>\n      <td>1</td>\n      <td>230.1</td>\n      <td>37.8</td>\n      <td>69.2</td>\n      <td>22.1</td>\n    </tr>\n    <tr>\n      <th>1</th>\n      <td>2</td>\n      <td>44.5</td>\n      <td>39.3</td>\n      <td>45.1</td>\n      <td>10.4</td>\n    </tr>\n    <tr>\n      <th>2</th>\n      <td>3</td>\n      <td>17.2</td>\n      <td>45.9</td>\n      <td>69.3</td>\n      <td>9.3</td>\n    </tr>\n    <tr>\n      <th>3</th>\n      <td>4</td>\n      <td>151.5</td>\n      <td>41.3</td>\n      <td>58.5</td>\n      <td>18.5</td>\n    </tr>\n    <tr>\n      <th>4</th>\n      <td>5</td>\n      <td>180.8</td>\n      <td>10.8</td>\n      <td>58.4</td>\n      <td>12.9</td>\n    </tr>\n  </tbody>\n</table>\n</div>"
     },
     "metadata": {},
     "execution_count": 5
    }
   ],
   "source": [
    "data.head()"
   ]
  },
  {
   "cell_type": "code",
   "execution_count": 6,
   "metadata": {},
   "outputs": [
    {
     "output_type": "execute_result",
     "data": {
      "text/plain": [
       "<matplotlib.collections.PathCollection at 0x2e3f603cdd8>"
      ]
     },
     "metadata": {},
     "execution_count": 6
    },
    {
     "output_type": "display_data",
     "data": {
      "text/plain": "<Figure size 432x288 with 1 Axes>",
      "image/svg+xml": "<?xml version=\"1.0\" encoding=\"utf-8\" standalone=\"no\"?>\r\n<!DOCTYPE svg PUBLIC \"-//W3C//DTD SVG 1.1//EN\"\r\n  \"http://www.w3.org/Graphics/SVG/1.1/DTD/svg11.dtd\">\r\n<!-- Created with matplotlib (https://matplotlib.org/) -->\r\n<svg height=\"248.518125pt\" version=\"1.1\" viewBox=\"0 0 368.925 248.518125\" width=\"368.925pt\" xmlns=\"http://www.w3.org/2000/svg\" xmlns:xlink=\"http://www.w3.org/1999/xlink\">\r\n <metadata>\r\n  <rdf:RDF xmlns:cc=\"http://creativecommons.org/ns#\" xmlns:dc=\"http://purl.org/dc/elements/1.1/\" xmlns:rdf=\"http://www.w3.org/1999/02/22-rdf-syntax-ns#\">\r\n   <cc:Work>\r\n    <dc:type rdf:resource=\"http://purl.org/dc/dcmitype/StillImage\"/>\r\n    <dc:date>2021-01-10T14:03:57.344798</dc:date>\r\n    <dc:format>image/svg+xml</dc:format>\r\n    <dc:creator>\r\n     <cc:Agent>\r\n      <dc:title>Matplotlib v3.3.3, https://matplotlib.org/</dc:title>\r\n     </cc:Agent>\r\n    </dc:creator>\r\n   </cc:Work>\r\n  </rdf:RDF>\r\n </metadata>\r\n <defs>\r\n  <style type=\"text/css\">*{stroke-linecap:butt;stroke-linejoin:round;}</style>\r\n </defs>\r\n <g id=\"figure_1\">\r\n  <g id=\"patch_1\">\r\n   <path d=\"M -0 248.518125 \r\nL 368.925 248.518125 \r\nL 368.925 0 \r\nL -0 0 \r\nz\r\n\" style=\"fill:none;\"/>\r\n  </g>\r\n  <g id=\"axes_1\">\r\n   <g id=\"patch_2\">\r\n    <path d=\"M 26.925 224.64 \r\nL 361.725 224.64 \r\nL 361.725 7.2 \r\nL 26.925 7.2 \r\nz\r\n\" style=\"fill:#ffffff;\"/>\r\n   </g>\r\n   <g id=\"PathCollection_1\">\r\n    <defs>\r\n     <path d=\"M 0 3 \r\nC 0.795609 3 1.55874 2.683901 2.12132 2.12132 \r\nC 2.683901 1.55874 3 0.795609 3 0 \r\nC 3 -0.795609 2.683901 -1.55874 2.12132 -2.12132 \r\nC 1.55874 -2.683901 0.795609 -3 0 -3 \r\nC -0.795609 -3 -1.55874 -2.683901 -2.12132 -2.12132 \r\nC -2.683901 -1.55874 -3 -0.795609 -3 0 \r\nC -3 0.795609 -2.683901 1.55874 -2.12132 2.12132 \r\nC -1.55874 2.683901 -0.795609 3 0 3 \r\nz\r\n\" id=\"m2d86b08159\" style=\"stroke:#1f77b4;\"/>\r\n    </defs>\r\n    <g clip-path=\"url(#p2c984dcb6b)\">\r\n     <use style=\"fill:#1f77b4;stroke:#1f77b4;\" x=\"278.264312\" xlink:href=\"#m2d86b08159\" y=\"55.217351\"/>\r\n     <use style=\"fill:#1f77b4;stroke:#1f77b4;\" x=\"87.226466\" xlink:href=\"#m2d86b08159\" y=\"146.271324\"/>\r\n     <use style=\"fill:#1f77b4;stroke:#1f77b4;\" x=\"59.126611\" xlink:href=\"#m2d86b08159\" y=\"154.831954\"/>\r\n     <use style=\"fill:#1f77b4;stroke:#1f77b4;\" x=\"197.361431\" xlink:href=\"#m2d86b08159\" y=\"83.233958\"/>\r\n     <use style=\"fill:#1f77b4;stroke:#1f77b4;\" x=\"227.519884\" xlink:href=\"#m2d86b08159\" y=\"126.815347\"/>\r\n     <use style=\"fill:#1f77b4;stroke:#1f77b4;\" x=\"50.377572\" xlink:href=\"#m2d86b08159\" y=\"171.174975\"/>\r\n     <use style=\"fill:#1f77b4;stroke:#1f77b4;\" x=\"100.60735\" xlink:href=\"#m2d86b08159\" y=\"135.375977\"/>\r\n     <use style=\"fill:#1f77b4;stroke:#1f77b4;\" x=\"165.144381\" xlink:href=\"#m2d86b08159\" y=\"124.48063\"/>\r\n     <use style=\"fill:#1f77b4;stroke:#1f77b4;\" x=\"50.274642\" xlink:href=\"#m2d86b08159\" y=\"189.852713\"/>\r\n     <use style=\"fill:#1f77b4;stroke:#1f77b4;\" x=\"247.07656\" xlink:href=\"#m2d86b08159\" y=\"144.714846\"/>\r\n     <use style=\"fill:#1f77b4;stroke:#1f77b4;\" x=\"109.459319\" xlink:href=\"#m2d86b08159\" y=\"160.279628\"/>\r\n     <use style=\"fill:#1f77b4;stroke:#1f77b4;\" x=\"262.413111\" xlink:href=\"#m2d86b08159\" y=\"91.794588\"/>\r\n     <use style=\"fill:#1f77b4;stroke:#1f77b4;\" x=\"65.919983\" xlink:href=\"#m2d86b08159\" y=\"155.610193\"/>\r\n     <use style=\"fill:#1f77b4;stroke:#1f77b4;\" x=\"141.7793\" xlink:href=\"#m2d86b08159\" y=\"151.718998\"/>\r\n     <use style=\"fill:#1f77b4;stroke:#1f77b4;\" x=\"251.502545\" xlink:href=\"#m2d86b08159\" y=\"79.342763\"/>\r\n     <use style=\"fill:#1f77b4;stroke:#1f77b4;\" x=\"242.547646\" xlink:href=\"#m2d86b08159\" y=\"52.882634\"/>\r\n     <use style=\"fill:#1f77b4;stroke:#1f77b4;\" x=\"111.209127\" xlink:href=\"#m2d86b08159\" y=\"129.928304\"/>\r\n     <use style=\"fill:#1f77b4;stroke:#1f77b4;\" x=\"331.067337\" xlink:href=\"#m2d86b08159\" y=\"37.317853\"/>\r\n     <use style=\"fill:#1f77b4;stroke:#1f77b4;\" x=\"112.650145\" xlink:href=\"#m2d86b08159\" y=\"139.267173\"/>\r\n     <use style=\"fill:#1f77b4;stroke:#1f77b4;\" x=\"193.038377\" xlink:href=\"#m2d86b08159\" y=\"113.585283\"/>\r\n     <use style=\"fill:#1f77b4;stroke:#1f77b4;\" x=\"266.221517\" xlink:href=\"#m2d86b08159\" y=\"87.125154\"/>\r\n     <use style=\"fill:#1f77b4;stroke:#1f77b4;\" x=\"285.778193\" xlink:href=\"#m2d86b08159\" y=\"129.928304\"/>\r\n     <use style=\"fill:#1f77b4;stroke:#1f77b4;\" x=\"55.009416\" xlink:href=\"#m2d86b08159\" y=\"183.6268\"/>\r\n     <use style=\"fill:#1f77b4;stroke:#1f77b4;\" x=\"276.411574\" xlink:href=\"#m2d86b08159\" y=\"106.581131\"/>\r\n     <use style=\"fill:#1f77b4;stroke:#1f77b4;\" x=\"105.547984\" xlink:href=\"#m2d86b08159\" y=\"151.718998\"/>\r\n     <use style=\"fill:#1f77b4;stroke:#1f77b4;\" x=\"312.025311\" xlink:href=\"#m2d86b08159\" y=\"133.819499\"/>\r\n     <use style=\"fill:#1f77b4;stroke:#1f77b4;\" x=\"188.509462\" xlink:href=\"#m2d86b08159\" y=\"110.472326\"/>\r\n     <use style=\"fill:#1f77b4;stroke:#1f77b4;\" x=\"288.557299\" xlink:href=\"#m2d86b08159\" y=\"103.468175\"/>\r\n     <use style=\"fill:#1f77b4;stroke:#1f77b4;\" x=\"297.512198\" xlink:href=\"#m2d86b08159\" y=\"80.121002\"/>\r\n     <use style=\"fill:#1f77b4;stroke:#1f77b4;\" x=\"114.091163\" xlink:href=\"#m2d86b08159\" y=\"145.493085\"/>\r\n     <use style=\"fill:#1f77b4;stroke:#1f77b4;\" x=\"342.904273\" xlink:href=\"#m2d86b08159\" y=\"60.665025\"/>\r\n     <use style=\"fill:#1f77b4;stroke:#1f77b4;\" x=\"157.6305\" xlink:href=\"#m2d86b08159\" y=\"134.597738\"/>\r\n     <use style=\"fill:#1f77b4;stroke:#1f77b4;\" x=\"141.47051\" xlink:href=\"#m2d86b08159\" y=\"152.497237\"/>\r\n     <use style=\"fill:#1f77b4;stroke:#1f77b4;\" x=\"314.804417\" xlink:href=\"#m2d86b08159\" y=\"91.794588\"/>\r\n     <use style=\"fill:#1f77b4;stroke:#1f77b4;\" x=\"139.926562\" xlink:href=\"#m2d86b08159\" y=\"153.275476\"/>\r\n     <use style=\"fill:#1f77b4;stroke:#1f77b4;\" x=\"340.639815\" xlink:href=\"#m2d86b08159\" y=\"127.593586\"/>\r\n     <use style=\"fill:#1f77b4;stroke:#1f77b4;\" x=\"316.142505\" xlink:href=\"#m2d86b08159\" y=\"29.535462\"/>\r\n     <use style=\"fill:#1f77b4;stroke:#1f77b4;\" x=\"118.311288\" xlink:href=\"#m2d86b08159\" y=\"112.807044\"/>\r\n     <use style=\"fill:#1f77b4;stroke:#1f77b4;\" x=\"85.785448\" xlink:href=\"#m2d86b08159\" y=\"148.606042\"/>\r\n     <use style=\"fill:#1f77b4;stroke:#1f77b4;\" x=\"276.102785\" xlink:href=\"#m2d86b08159\" y=\"59.886786\"/>\r\n     <use style=\"fill:#1f77b4;stroke:#1f77b4;\" x=\"249.855667\" xlink:href=\"#m2d86b08159\" y=\"98.020501\"/>\r\n     <use style=\"fill:#1f77b4;stroke:#1f77b4;\" x=\"223.608549\" xlink:href=\"#m2d86b08159\" y=\"94.129306\"/>\r\n     <use style=\"fill:#1f77b4;stroke:#1f77b4;\" x=\"343.624782\" xlink:href=\"#m2d86b08159\" y=\"66.112699\"/>\r\n     <use style=\"fill:#1f77b4;stroke:#1f77b4;\" x=\"254.384581\" xlink:href=\"#m2d86b08159\" y=\"126.815347\"/>\r\n     <use style=\"fill:#1f77b4;stroke:#1f77b4;\" x=\"67.258071\" xlink:href=\"#m2d86b08159\" y=\"161.057867\"/>\r\n     <use style=\"fill:#1f77b4;stroke:#1f77b4;\" x=\"221.652881\" xlink:href=\"#m2d86b08159\" y=\"111.250565\"/>\r\n     <use style=\"fill:#1f77b4;stroke:#1f77b4;\" x=\"133.750769\" xlink:href=\"#m2d86b08159\" y=\"144.714846\"/>\r\n     <use style=\"fill:#1f77b4;stroke:#1f77b4;\" x=\"288.35144\" xlink:href=\"#m2d86b08159\" y=\"46.656722\"/>\r\n     <use style=\"fill:#1f77b4;stroke:#1f77b4;\" x=\"275.279346\" xlink:href=\"#m2d86b08159\" y=\"112.028805\"/>\r\n     <use style=\"fill:#1f77b4;stroke:#1f77b4;\" x=\"110.282758\" xlink:href=\"#m2d86b08159\" y=\"151.718998\"/>\r\n     <use style=\"fill:#1f77b4;stroke:#1f77b4;\" x=\"247.07656\" xlink:href=\"#m2d86b08159\" y=\"138.488933\"/>\r\n     <use style=\"fill:#1f77b4;stroke:#1f77b4;\" x=\"144.764266\" xlink:href=\"#m2d86b08159\" y=\"143.936607\"/>\r\n     <use style=\"fill:#1f77b4;stroke:#1f77b4;\" x=\"264.162919\" xlink:href=\"#m2d86b08159\" y=\"51.326156\"/>\r\n     <use style=\"fill:#1f77b4;stroke:#1f77b4;\" x=\"229.372622\" xlink:href=\"#m2d86b08159\" y=\"62.221503\"/>\r\n     <use style=\"fill:#1f77b4;stroke:#1f77b4;\" x=\"311.819451\" xlink:href=\"#m2d86b08159\" y=\"70.003894\"/>\r\n     <use style=\"fill:#1f77b4;stroke:#1f77b4;\" x=\"246.150191\" xlink:href=\"#m2d86b08159\" y=\"42.765526\"/>\r\n     <use style=\"fill:#1f77b4;stroke:#1f77b4;\" x=\"48.936553\" xlink:href=\"#m2d86b08159\" y=\"184.405039\"/>\r\n     <use style=\"fill:#1f77b4;stroke:#1f77b4;\" x=\"181.613161\" xlink:href=\"#m2d86b08159\" y=\"124.48063\"/>\r\n     <use style=\"fill:#1f77b4;stroke:#1f77b4;\" x=\"258.398846\" xlink:href=\"#m2d86b08159\" y=\"41.987287\"/>\r\n     <use style=\"fill:#1f77b4;stroke:#1f77b4;\" x=\"258.295916\" xlink:href=\"#m2d86b08159\" y=\"84.012198\"/>\r\n     <use style=\"fill:#1f77b4;stroke:#1f77b4;\" x=\"96.490155\" xlink:href=\"#m2d86b08159\" y=\"164.170823\"/>\r\n     <use style=\"fill:#1f77b4;stroke:#1f77b4;\" x=\"310.378433\" xlink:href=\"#m2d86b08159\" y=\"38.874331\"/>\r\n     <use style=\"fill:#1f77b4;stroke:#1f77b4;\" x=\"287.73386\" xlink:href=\"#m2d86b08159\" y=\"105.024653\"/>\r\n     <use style=\"fill:#1f77b4;stroke:#1f77b4;\" x=\"147.131653\" xlink:href=\"#m2d86b08159\" y=\"118.254717\"/>\r\n     <use style=\"fill:#1f77b4;stroke:#1f77b4;\" x=\"176.363737\" xlink:href=\"#m2d86b08159\" y=\"87.125154\"/>\r\n     <use style=\"fill:#1f77b4;stroke:#1f77b4;\" x=\"112.444286\" xlink:href=\"#m2d86b08159\" y=\"154.831954\"/>\r\n     <use style=\"fill:#1f77b4;stroke:#1f77b4;\" x=\"73.845583\" xlink:href=\"#m2d86b08159\" y=\"153.275476\"/>\r\n     <use style=\"fill:#1f77b4;stroke:#1f77b4;\" x=\"184.803987\" xlink:href=\"#m2d86b08159\" y=\"122.924152\"/>\r\n     <use style=\"fill:#1f77b4;stroke:#1f77b4;\" x=\"285.778193\" xlink:href=\"#m2d86b08159\" y=\"80.121002\"/>\r\n     <use style=\"fill:#1f77b4;stroke:#1f77b4;\" x=\"264.574639\" xlink:href=\"#m2d86b08159\" y=\"53.660873\"/>\r\n     <use style=\"fill:#1f77b4;stroke:#1f77b4;\" x=\"246.356051\" xlink:href=\"#m2d86b08159\" y=\"84.790437\"/>\r\n     <use style=\"fill:#1f77b4;stroke:#1f77b4;\" x=\"154.439674\" xlink:href=\"#m2d86b08159\" y=\"130.706543\"/>\r\n     <use style=\"fill:#1f77b4;stroke:#1f77b4;\" x=\"69.007879\" xlink:href=\"#m2d86b08159\" y=\"158.72315\"/>\r\n     <use style=\"fill:#1f77b4;stroke:#1f77b4;\" x=\"174.613929\" xlink:href=\"#m2d86b08159\" y=\"141.60189\"/>\r\n     <use style=\"fill:#1f77b4;stroke:#1f77b4;\" x=\"261.075023\" xlink:href=\"#m2d86b08159\" y=\"94.907545\"/>\r\n     <use style=\"fill:#1f77b4;stroke:#1f77b4;\" x=\"58.817821\" xlink:href=\"#m2d86b08159\" y=\"159.501389\"/>\r\n     <use style=\"fill:#1f77b4;stroke:#1f77b4;\" x=\"69.728388\" xlink:href=\"#m2d86b08159\" y=\"173.509692\"/>\r\n     <use style=\"fill:#1f77b4;stroke:#1f77b4;\" x=\"165.45317\" xlink:href=\"#m2d86b08159\" y=\"116.698239\"/>\r\n     <use style=\"fill:#1f77b4;stroke:#1f77b4;\" x=\"46.980886\" xlink:href=\"#m2d86b08159\" y=\"185.961518\"/>\r\n     <use style=\"fill:#1f77b4;stroke:#1f77b4;\" x=\"160.821326\" xlink:href=\"#m2d86b08159\" y=\"141.60189\"/>\r\n     <use style=\"fill:#1f77b4;stroke:#1f77b4;\" x=\"120.061096\" xlink:href=\"#m2d86b08159\" y=\"135.375977\"/>\r\n     <use style=\"fill:#1f77b4;stroke:#1f77b4;\" x=\"288.24851\" xlink:href=\"#m2d86b08159\" y=\"131.484782\"/>\r\n     <use style=\"fill:#1f77b4;stroke:#1f77b4;\" x=\"118.928868\" xlink:href=\"#m2d86b08159\" y=\"139.267173\"/>\r\n     <use style=\"fill:#1f77b4;stroke:#1f77b4;\" x=\"111.826706\" xlink:href=\"#m2d86b08159\" y=\"121.367674\"/>\r\n     <use style=\"fill:#1f77b4;stroke:#1f77b4;\" x=\"261.177953\" xlink:href=\"#m2d86b08159\" y=\"58.330308\"/>\r\n     <use style=\"fill:#1f77b4;stroke:#1f77b4;\" x=\"240.283189\" xlink:href=\"#m2d86b08159\" y=\"108.915848\"/>\r\n     <use style=\"fill:#1f77b4;stroke:#1f77b4;\" x=\"119.958166\" xlink:href=\"#m2d86b08159\" y=\"133.819499\"/>\r\n     <use style=\"fill:#1f77b4;stroke:#1f77b4;\" x=\"155.366043\" xlink:href=\"#m2d86b08159\" y=\"102.689936\"/>\r\n     <use style=\"fill:#1f77b4;stroke:#1f77b4;\" x=\"132.309751\" xlink:href=\"#m2d86b08159\" y=\"126.815347\"/>\r\n     <use style=\"fill:#1f77b4;stroke:#1f77b4;\" x=\"154.439674\" xlink:href=\"#m2d86b08159\" y=\"97.242262\"/>\r\n     <use style=\"fill:#1f77b4;stroke:#1f77b4;\" x=\"179.657493\" xlink:href=\"#m2d86b08159\" y=\"140.045412\"/>\r\n     <use style=\"fill:#1f77b4;stroke:#1f77b4;\" x=\"70.860617\" xlink:href=\"#m2d86b08159\" y=\"170.396736\"/>\r\n     <use style=\"fill:#1f77b4;stroke:#1f77b4;\" x=\"265.501008\" xlink:href=\"#m2d86b08159\" y=\"76.229807\"/>\r\n     <use style=\"fill:#1f77b4;stroke:#1f77b4;\" x=\"299.673726\" xlink:href=\"#m2d86b08159\" y=\"54.439112\"/>\r\n     <use style=\"fill:#1f77b4;stroke:#1f77b4;\" x=\"151.969357\" xlink:href=\"#m2d86b08159\" y=\"137.710694\"/>\r\n     <use style=\"fill:#1f77b4;stroke:#1f77b4;\" x=\"209.507156\" xlink:href=\"#m2d86b08159\" y=\"95.685784\"/>\r\n     <use style=\"fill:#1f77b4;stroke:#1f77b4;\" x=\"244.812103\" xlink:href=\"#m2d86b08159\" y=\"136.154216\"/>\r\n     <use style=\"fill:#1f77b4;stroke:#1f77b4;\" x=\"231.740009\" xlink:href=\"#m2d86b08159\" y=\"106.581131\"/>\r\n     <use style=\"fill:#1f77b4;stroke:#1f77b4;\" x=\"339.610517\" xlink:href=\"#m2d86b08159\" y=\"29.535462\"/>\r\n     <use style=\"fill:#1f77b4;stroke:#1f77b4;\" x=\"180.583862\" xlink:href=\"#m2d86b08159\" y=\"93.351067\"/>\r\n     <use style=\"fill:#1f77b4;stroke:#1f77b4;\" x=\"270.338712\" xlink:href=\"#m2d86b08159\" y=\"136.154216\"/>\r\n     <use style=\"fill:#1f77b4;stroke:#1f77b4;\" x=\"346.506818\" xlink:href=\"#m2d86b08159\" y=\"41.987287\"/>\r\n     <use style=\"fill:#1f77b4;stroke:#1f77b4;\" x=\"329.832179\" xlink:href=\"#m2d86b08159\" y=\"112.028805\"/>\r\n     <use style=\"fill:#1f77b4;stroke:#1f77b4;\" x=\"234.827905\" xlink:href=\"#m2d86b08159\" y=\"112.807044\"/>\r\n     <use style=\"fill:#1f77b4;stroke:#1f77b4;\" x=\"286.601632\" xlink:href=\"#m2d86b08159\" y=\"66.112699\"/>\r\n     <use style=\"fill:#1f77b4;stroke:#1f77b4;\" x=\"183.362968\" xlink:href=\"#m2d86b08159\" y=\"77.786285\"/>\r\n     <use style=\"fill:#1f77b4;stroke:#1f77b4;\" x=\"67.155141\" xlink:href=\"#m2d86b08159\" y=\"171.174975\"/>\r\n     <use style=\"fill:#1f77b4;stroke:#1f77b4;\" x=\"134.471278\" xlink:href=\"#m2d86b08159\" y=\"159.501389\"/>\r\n     <use style=\"fill:#1f77b4;stroke:#1f77b4;\" x=\"54.906486\" xlink:href=\"#m2d86b08159\" y=\"185.961518\"/>\r\n     <use style=\"fill:#1f77b4;stroke:#1f77b4;\" x=\"304.30557\" xlink:href=\"#m2d86b08159\" y=\"73.11685\"/>\r\n     <use style=\"fill:#1f77b4;stroke:#1f77b4;\" x=\"273.838327\" xlink:href=\"#m2d86b08159\" y=\"122.924152\"/>\r\n     <use style=\"fill:#1f77b4;stroke:#1f77b4;\" x=\"290.204177\" xlink:href=\"#m2d86b08159\" y=\"57.552069\"/>\r\n     <use style=\"fill:#1f77b4;stroke:#1f77b4;\" x=\"222.270461\" xlink:href=\"#m2d86b08159\" y=\"117.476478\"/>\r\n     <use style=\"fill:#1f77b4;stroke:#1f77b4;\" x=\"257.163688\" xlink:href=\"#m2d86b08159\" y=\"103.468175\"/>\r\n     <use style=\"fill:#1f77b4;stroke:#1f77b4;\" x=\"121.913834\" xlink:href=\"#m2d86b08159\" y=\"113.585283\"/>\r\n     <use style=\"fill:#1f77b4;stroke:#1f77b4;\" x=\"118.723008\" xlink:href=\"#m2d86b08159\" y=\"129.150064\"/>\r\n     <use style=\"fill:#1f77b4;stroke:#1f77b4;\" x=\"184.701057\" xlink:href=\"#m2d86b08159\" y=\"132.263021\"/>\r\n     <use style=\"fill:#1f77b4;stroke:#1f77b4;\" x=\"120.061096\" xlink:href=\"#m2d86b08159\" y=\"154.053715\"/>\r\n     <use style=\"fill:#1f77b4;stroke:#1f77b4;\" x=\"170.805524\" xlink:href=\"#m2d86b08159\" y=\"103.468175\"/>\r\n     <use style=\"fill:#1f77b4;stroke:#1f77b4;\" x=\"61.391068\" xlink:href=\"#m2d86b08159\" y=\"175.844409\"/>\r\n     <use style=\"fill:#1f77b4;stroke:#1f77b4;\" x=\"186.862584\" xlink:href=\"#m2d86b08159\" y=\"106.581131\"/>\r\n     <use style=\"fill:#1f77b4;stroke:#1f77b4;\" x=\"60.773489\" xlink:href=\"#m2d86b08159\" y=\"172.731453\"/>\r\n     <use style=\"fill:#1f77b4;stroke:#1f77b4;\" x=\"271.98559\" xlink:href=\"#m2d86b08159\" y=\"136.932455\"/>\r\n     <use style=\"fill:#1f77b4;stroke:#1f77b4;\" x=\"168.129347\" xlink:href=\"#m2d86b08159\" y=\"108.915848\"/>\r\n     <use style=\"fill:#1f77b4;stroke:#1f77b4;\" x=\"277.646733\" xlink:href=\"#m2d86b08159\" y=\"73.895089\"/>\r\n     <use style=\"fill:#1f77b4;stroke:#1f77b4;\" x=\"131.177523\" xlink:href=\"#m2d86b08159\" y=\"144.714846\"/>\r\n     <use style=\"fill:#1f77b4;stroke:#1f77b4;\" x=\"49.451203\" xlink:href=\"#m2d86b08159\" y=\"175.844409\"/>\r\n     <use style=\"fill:#1f77b4;stroke:#1f77b4;\" x=\"123.972431\" xlink:href=\"#m2d86b08159\" y=\"158.72315\"/>\r\n     <use style=\"fill:#1f77b4;stroke:#1f77b4;\" x=\"268.177184\" xlink:href=\"#m2d86b08159\" y=\"34.983135\"/>\r\n     <use style=\"fill:#1f77b4;stroke:#1f77b4;\" x=\"102.768877\" xlink:href=\"#m2d86b08159\" y=\"151.718998\"/>\r\n     <use style=\"fill:#1f77b4;stroke:#1f77b4;\" x=\"42.143182\" xlink:href=\"#m2d86b08159\" y=\"214.756364\"/>\r\n     <use style=\"fill:#1f77b4;stroke:#1f77b4;\" x=\"314.392698\" xlink:href=\"#m2d86b08159\" y=\"128.371825\"/>\r\n     <use style=\"fill:#1f77b4;stroke:#1f77b4;\" x=\"50.068782\" xlink:href=\"#m2d86b08159\" y=\"182.848561\"/>\r\n     <use style=\"fill:#1f77b4;stroke:#1f77b4;\" x=\"267.662535\" xlink:href=\"#m2d86b08159\" y=\"74.673329\"/>\r\n     <use style=\"fill:#1f77b4;stroke:#1f77b4;\" x=\"79.403796\" xlink:href=\"#m2d86b08159\" y=\"143.158368\"/>\r\n     <use style=\"fill:#1f77b4;stroke:#1f77b4;\" x=\"91.137802\" xlink:href=\"#m2d86b08159\" y=\"136.932455\"/>\r\n     <use style=\"fill:#1f77b4;stroke:#1f77b4;\" x=\"67.77272\" xlink:href=\"#m2d86b08159\" y=\"153.275476\"/>\r\n     <use style=\"fill:#1f77b4;stroke:#1f77b4;\" x=\"323.141737\" xlink:href=\"#m2d86b08159\" y=\"65.33446\"/>\r\n     <use style=\"fill:#1f77b4;stroke:#1f77b4;\" x=\"85.682518\" xlink:href=\"#m2d86b08159\" y=\"152.497237\"/>\r\n     <use style=\"fill:#1f77b4;stroke:#1f77b4;\" x=\"231.740009\" xlink:href=\"#m2d86b08159\" y=\"66.112699\"/>\r\n     <use style=\"fill:#1f77b4;stroke:#1f77b4;\" x=\"116.9732\" xlink:href=\"#m2d86b08159\" y=\"142.380129\"/>\r\n     <use style=\"fill:#1f77b4;stroke:#1f77b4;\" x=\"240.797838\" xlink:href=\"#m2d86b08159\" y=\"77.786285\"/>\r\n     <use style=\"fill:#1f77b4;stroke:#1f77b4;\" x=\"268.383044\" xlink:href=\"#m2d86b08159\" y=\"70.782133\"/>\r\n     <use style=\"fill:#1f77b4;stroke:#1f77b4;\" x=\"149.087321\" xlink:href=\"#m2d86b08159\" y=\"146.271324\"/>\r\n     <use style=\"fill:#1f77b4;stroke:#1f77b4;\" x=\"140.441211\" xlink:href=\"#m2d86b08159\" y=\"138.488933\"/>\r\n     <use style=\"fill:#1f77b4;stroke:#1f77b4;\" x=\"185.833285\" xlink:href=\"#m2d86b08159\" y=\"147.049563\"/>\r\n     <use style=\"fill:#1f77b4;stroke:#1f77b4;\" x=\"288.557299\" xlink:href=\"#m2d86b08159\" y=\"124.48063\"/>\r\n     <use style=\"fill:#1f77b4;stroke:#1f77b4;\" x=\"291.748125\" xlink:href=\"#m2d86b08159\" y=\"29.535462\"/>\r\n     <use style=\"fill:#1f77b4;stroke:#1f77b4;\" x=\"80.536025\" xlink:href=\"#m2d86b08159\" y=\"142.380129\"/>\r\n     <use style=\"fill:#1f77b4;stroke:#1f77b4;\" x=\"87.432326\" xlink:href=\"#m2d86b08159\" y=\"148.606042\"/>\r\n     <use style=\"fill:#1f77b4;stroke:#1f77b4;\" x=\"330.346828\" xlink:href=\"#m2d86b08159\" y=\"101.911696\"/>\r\n     <use style=\"fill:#1f77b4;stroke:#1f77b4;\" x=\"165.96782\" xlink:href=\"#m2d86b08159\" y=\"136.932455\"/>\r\n     <use style=\"fill:#1f77b4;stroke:#1f77b4;\" x=\"244.812103\" xlink:href=\"#m2d86b08159\" y=\"98.020501\"/>\r\n     <use style=\"fill:#1f77b4;stroke:#1f77b4;\" x=\"217.741546\" xlink:href=\"#m2d86b08159\" y=\"79.342763\"/>\r\n     <use style=\"fill:#1f77b4;stroke:#1f77b4;\" x=\"234.724975\" xlink:href=\"#m2d86b08159\" y=\"105.802892\"/>\r\n     <use style=\"fill:#1f77b4;stroke:#1f77b4;\" x=\"45.642798\" xlink:href=\"#m2d86b08159\" y=\"202.304538\"/>\r\n     <use style=\"fill:#1f77b4;stroke:#1f77b4;\" x=\"138.073824\" xlink:href=\"#m2d86b08159\" y=\"108.137609\"/>\r\n     <use style=\"fill:#1f77b4;stroke:#1f77b4;\" x=\"195.611623\" xlink:href=\"#m2d86b08159\" y=\"148.606042\"/>\r\n     <use style=\"fill:#1f77b4;stroke:#1f77b4;\" x=\"53.465468\" xlink:href=\"#m2d86b08159\" y=\"170.396736\"/>\r\n     <use style=\"fill:#1f77b4;stroke:#1f77b4;\" x=\"176.981316\" xlink:href=\"#m2d86b08159\" y=\"126.815347\"/>\r\n     <use style=\"fill:#1f77b4;stroke:#1f77b4;\" x=\"218.976705\" xlink:href=\"#m2d86b08159\" y=\"115.141761\"/>\r\n     <use style=\"fill:#1f77b4;stroke:#1f77b4;\" x=\"129.633574\" xlink:href=\"#m2d86b08159\" y=\"123.702391\"/>\r\n     <use style=\"fill:#1f77b4;stroke:#1f77b4;\" x=\"235.342555\" xlink:href=\"#m2d86b08159\" y=\"111.250565\"/>\r\n     <use style=\"fill:#1f77b4;stroke:#1f77b4;\" x=\"209.713016\" xlink:href=\"#m2d86b08159\" y=\"87.125154\"/>\r\n     <use style=\"fill:#1f77b4;stroke:#1f77b4;\" x=\"162.056485\" xlink:href=\"#m2d86b08159\" y=\"134.597738\"/>\r\n     <use style=\"fill:#1f77b4;stroke:#1f77b4;\" x=\"282.793226\" xlink:href=\"#m2d86b08159\" y=\"134.597738\"/>\r\n     <use style=\"fill:#1f77b4;stroke:#1f77b4;\" x=\"59.84712\" xlink:href=\"#m2d86b08159\" y=\"164.949062\"/>\r\n     <use style=\"fill:#1f77b4;stroke:#1f77b4;\" x=\"254.281651\" xlink:href=\"#m2d86b08159\" y=\"132.263021\"/>\r\n     <use style=\"fill:#1f77b4;stroke:#1f77b4;\" x=\"263.133621\" xlink:href=\"#m2d86b08159\" y=\"94.129306\"/>\r\n     <use style=\"fill:#1f77b4;stroke:#1f77b4;\" x=\"334.052303\" xlink:href=\"#m2d86b08159\" y=\"110.472326\"/>\r\n     <use style=\"fill:#1f77b4;stroke:#1f77b4;\" x=\"92.88761\" xlink:href=\"#m2d86b08159\" y=\"161.836106\"/>\r\n     <use style=\"fill:#1f77b4;stroke:#1f77b4;\" x=\"210.742315\" xlink:href=\"#m2d86b08159\" y=\"114.363522\"/>\r\n     <use style=\"fill:#1f77b4;stroke:#1f77b4;\" x=\"61.596928\" xlink:href=\"#m2d86b08159\" y=\"168.062019\"/>\r\n     <use style=\"fill:#1f77b4;stroke:#1f77b4;\" x=\"214.75658\" xlink:href=\"#m2d86b08159\" y=\"136.154216\"/>\r\n     <use style=\"fill:#1f77b4;stroke:#1f77b4;\" x=\"270.338712\" xlink:href=\"#m2d86b08159\" y=\"137.710694\"/>\r\n     <use style=\"fill:#1f77b4;stroke:#1f77b4;\" x=\"326.435493\" xlink:href=\"#m2d86b08159\" y=\"17.083636\"/>\r\n     <use style=\"fill:#1f77b4;stroke:#1f77b4;\" x=\"297.100479\" xlink:href=\"#m2d86b08159\" y=\"70.003894\"/>\r\n     <use style=\"fill:#1f77b4;stroke:#1f77b4;\" x=\"216.609318\" xlink:href=\"#m2d86b08159\" y=\"136.154216\"/>\r\n     <use style=\"fill:#1f77b4;stroke:#1f77b4;\" x=\"326.229633\" xlink:href=\"#m2d86b08159\" y=\"135.375977\"/>\r\n     <use style=\"fill:#1f77b4;stroke:#1f77b4;\" x=\"211.874543\" xlink:href=\"#m2d86b08159\" y=\"129.150064\"/>\r\n     <use style=\"fill:#1f77b4;stroke:#1f77b4;\" x=\"202.610855\" xlink:href=\"#m2d86b08159\" y=\"145.493085\"/>\r\n     <use style=\"fill:#1f77b4;stroke:#1f77b4;\" x=\"266.324447\" xlink:href=\"#m2d86b08159\" y=\"132.263021\"/>\r\n     <use style=\"fill:#1f77b4;stroke:#1f77b4;\" x=\"99.269262\" xlink:href=\"#m2d86b08159\" y=\"159.501389\"/>\r\n     <use style=\"fill:#1f77b4;stroke:#1f77b4;\" x=\"337.448989\" xlink:href=\"#m2d86b08159\" y=\"23.309549\"/>\r\n     <use style=\"fill:#1f77b4;stroke:#1f77b4;\" x=\"302.658692\" xlink:href=\"#m2d86b08159\" y=\"90.23811\"/>\r\n     <use style=\"fill:#1f77b4;stroke:#1f77b4;\" x=\"252.428914\" xlink:href=\"#m2d86b08159\" y=\"51.326156\"/>\r\n     <use style=\"fill:#1f77b4;stroke:#1f77b4;\" x=\"185.009846\" xlink:href=\"#m2d86b08159\" y=\"147.049563\"/>\r\n     <use style=\"fill:#1f77b4;stroke:#1f77b4;\" x=\"238.121661\" xlink:href=\"#m2d86b08159\" y=\"92.572827\"/>\r\n     <use style=\"fill:#1f77b4;stroke:#1f77b4;\" x=\"335.802111\" xlink:href=\"#m2d86b08159\" y=\"103.468175\"/>\r\n     <use style=\"fill:#1f77b4;stroke:#1f77b4;\" x=\"60.670559\" xlink:href=\"#m2d86b08159\" y=\"175.06617\"/>\r\n     <use style=\"fill:#1f77b4;stroke:#1f77b4;\" x=\"82.079973\" xlink:href=\"#m2d86b08159\" y=\"143.158368\"/>\r\n     <use style=\"fill:#1f77b4;stroke:#1f77b4;\" x=\"119.134727\" xlink:href=\"#m2d86b08159\" y=\"150.16252\"/>\r\n     <use style=\"fill:#1f77b4;stroke:#1f77b4;\" x=\"59.126611\" xlink:href=\"#m2d86b08159\" y=\"181.292083\"/>\r\n     <use style=\"fill:#1f77b4;stroke:#1f77b4;\" x=\"213.109702\" xlink:href=\"#m2d86b08159\" y=\"74.673329\"/>\r\n     <use style=\"fill:#1f77b4;stroke:#1f77b4;\" x=\"195.508694\" xlink:href=\"#m2d86b08159\" y=\"92.572827\"/>\r\n     <use style=\"fill:#1f77b4;stroke:#1f77b4;\" x=\"80.741884\" xlink:href=\"#m2d86b08159\" y=\"168.062019\"/>\r\n     <use style=\"fill:#1f77b4;stroke:#1f77b4;\" x=\"138.382614\" xlink:href=\"#m2d86b08159\" y=\"151.718998\"/>\r\n     <use style=\"fill:#1f77b4;stroke:#1f77b4;\" x=\"223.608549\" xlink:href=\"#m2d86b08159\" y=\"127.593586\"/>\r\n     <use style=\"fill:#1f77b4;stroke:#1f77b4;\" x=\"333.331794\" xlink:href=\"#m2d86b08159\" y=\"28.757223\"/>\r\n     <use style=\"fill:#1f77b4;stroke:#1f77b4;\" x=\"280.322909\" xlink:href=\"#m2d86b08159\" y=\"122.924152\"/>\r\n    </g>\r\n   </g>\r\n   <g id=\"matplotlib.axis_1\">\r\n    <g id=\"xtick_1\">\r\n     <g id=\"line2d_1\">\r\n      <defs>\r\n       <path d=\"M 0 0 \r\nL 0 3.5 \r\n\" id=\"m4e1de732c4\" style=\"stroke:#000000;stroke-width:0.8;\"/>\r\n      </defs>\r\n      <g>\r\n       <use style=\"stroke:#000000;stroke-width:0.8;\" x=\"41.422673\" xlink:href=\"#m4e1de732c4\" y=\"224.64\"/>\r\n      </g>\r\n     </g>\r\n     <g id=\"text_1\">\r\n      <!-- 0 -->\r\n      <g transform=\"translate(38.241423 239.238437)scale(0.1 -0.1)\">\r\n       <defs>\r\n        <path d=\"M 31.78125 66.40625 \r\nQ 24.171875 66.40625 20.328125 58.90625 \r\nQ 16.5 51.421875 16.5 36.375 \r\nQ 16.5 21.390625 20.328125 13.890625 \r\nQ 24.171875 6.390625 31.78125 6.390625 \r\nQ 39.453125 6.390625 43.28125 13.890625 \r\nQ 47.125 21.390625 47.125 36.375 \r\nQ 47.125 51.421875 43.28125 58.90625 \r\nQ 39.453125 66.40625 31.78125 66.40625 \r\nz\r\nM 31.78125 74.21875 \r\nQ 44.046875 74.21875 50.515625 64.515625 \r\nQ 56.984375 54.828125 56.984375 36.375 \r\nQ 56.984375 17.96875 50.515625 8.265625 \r\nQ 44.046875 -1.421875 31.78125 -1.421875 \r\nQ 19.53125 -1.421875 13.0625 8.265625 \r\nQ 6.59375 17.96875 6.59375 36.375 \r\nQ 6.59375 54.828125 13.0625 64.515625 \r\nQ 19.53125 74.21875 31.78125 74.21875 \r\nz\r\n\" id=\"DejaVuSans-48\"/>\r\n       </defs>\r\n       <use xlink:href=\"#DejaVuSans-48\"/>\r\n      </g>\r\n     </g>\r\n    </g>\r\n    <g id=\"xtick_2\">\r\n     <g id=\"line2d_2\">\r\n      <g>\r\n       <use style=\"stroke:#000000;stroke-width:0.8;\" x=\"92.88761\" xlink:href=\"#m4e1de732c4\" y=\"224.64\"/>\r\n      </g>\r\n     </g>\r\n     <g id=\"text_2\">\r\n      <!-- 50 -->\r\n      <g transform=\"translate(86.52511 239.238437)scale(0.1 -0.1)\">\r\n       <defs>\r\n        <path d=\"M 10.796875 72.90625 \r\nL 49.515625 72.90625 \r\nL 49.515625 64.59375 \r\nL 19.828125 64.59375 \r\nL 19.828125 46.734375 \r\nQ 21.96875 47.46875 24.109375 47.828125 \r\nQ 26.265625 48.1875 28.421875 48.1875 \r\nQ 40.625 48.1875 47.75 41.5 \r\nQ 54.890625 34.8125 54.890625 23.390625 \r\nQ 54.890625 11.625 47.5625 5.09375 \r\nQ 40.234375 -1.421875 26.90625 -1.421875 \r\nQ 22.3125 -1.421875 17.546875 -0.640625 \r\nQ 12.796875 0.140625 7.71875 1.703125 \r\nL 7.71875 11.625 \r\nQ 12.109375 9.234375 16.796875 8.0625 \r\nQ 21.484375 6.890625 26.703125 6.890625 \r\nQ 35.15625 6.890625 40.078125 11.328125 \r\nQ 45.015625 15.765625 45.015625 23.390625 \r\nQ 45.015625 31 40.078125 35.4375 \r\nQ 35.15625 39.890625 26.703125 39.890625 \r\nQ 22.75 39.890625 18.8125 39.015625 \r\nQ 14.890625 38.140625 10.796875 36.28125 \r\nz\r\n\" id=\"DejaVuSans-53\"/>\r\n       </defs>\r\n       <use xlink:href=\"#DejaVuSans-53\"/>\r\n       <use x=\"63.623047\" xlink:href=\"#DejaVuSans-48\"/>\r\n      </g>\r\n     </g>\r\n    </g>\r\n    <g id=\"xtick_3\">\r\n     <g id=\"line2d_3\">\r\n      <g>\r\n       <use style=\"stroke:#000000;stroke-width:0.8;\" x=\"144.352546\" xlink:href=\"#m4e1de732c4\" y=\"224.64\"/>\r\n      </g>\r\n     </g>\r\n     <g id=\"text_3\">\r\n      <!-- 100 -->\r\n      <g transform=\"translate(134.808796 239.238437)scale(0.1 -0.1)\">\r\n       <defs>\r\n        <path d=\"M 12.40625 8.296875 \r\nL 28.515625 8.296875 \r\nL 28.515625 63.921875 \r\nL 10.984375 60.40625 \r\nL 10.984375 69.390625 \r\nL 28.421875 72.90625 \r\nL 38.28125 72.90625 \r\nL 38.28125 8.296875 \r\nL 54.390625 8.296875 \r\nL 54.390625 0 \r\nL 12.40625 0 \r\nz\r\n\" id=\"DejaVuSans-49\"/>\r\n       </defs>\r\n       <use xlink:href=\"#DejaVuSans-49\"/>\r\n       <use x=\"63.623047\" xlink:href=\"#DejaVuSans-48\"/>\r\n       <use x=\"127.246094\" xlink:href=\"#DejaVuSans-48\"/>\r\n      </g>\r\n     </g>\r\n    </g>\r\n    <g id=\"xtick_4\">\r\n     <g id=\"line2d_4\">\r\n      <g>\r\n       <use style=\"stroke:#000000;stroke-width:0.8;\" x=\"195.817483\" xlink:href=\"#m4e1de732c4\" y=\"224.64\"/>\r\n      </g>\r\n     </g>\r\n     <g id=\"text_4\">\r\n      <!-- 150 -->\r\n      <g transform=\"translate(186.273733 239.238437)scale(0.1 -0.1)\">\r\n       <use xlink:href=\"#DejaVuSans-49\"/>\r\n       <use x=\"63.623047\" xlink:href=\"#DejaVuSans-53\"/>\r\n       <use x=\"127.246094\" xlink:href=\"#DejaVuSans-48\"/>\r\n      </g>\r\n     </g>\r\n    </g>\r\n    <g id=\"xtick_5\">\r\n     <g id=\"line2d_5\">\r\n      <g>\r\n       <use style=\"stroke:#000000;stroke-width:0.8;\" x=\"247.28242\" xlink:href=\"#m4e1de732c4\" y=\"224.64\"/>\r\n      </g>\r\n     </g>\r\n     <g id=\"text_5\">\r\n      <!-- 200 -->\r\n      <g transform=\"translate(237.73867 239.238437)scale(0.1 -0.1)\">\r\n       <defs>\r\n        <path d=\"M 19.1875 8.296875 \r\nL 53.609375 8.296875 \r\nL 53.609375 0 \r\nL 7.328125 0 \r\nL 7.328125 8.296875 \r\nQ 12.9375 14.109375 22.625 23.890625 \r\nQ 32.328125 33.6875 34.8125 36.53125 \r\nQ 39.546875 41.84375 41.421875 45.53125 \r\nQ 43.3125 49.21875 43.3125 52.78125 \r\nQ 43.3125 58.59375 39.234375 62.25 \r\nQ 35.15625 65.921875 28.609375 65.921875 \r\nQ 23.96875 65.921875 18.8125 64.3125 \r\nQ 13.671875 62.703125 7.8125 59.421875 \r\nL 7.8125 69.390625 \r\nQ 13.765625 71.78125 18.9375 73 \r\nQ 24.125 74.21875 28.421875 74.21875 \r\nQ 39.75 74.21875 46.484375 68.546875 \r\nQ 53.21875 62.890625 53.21875 53.421875 \r\nQ 53.21875 48.921875 51.53125 44.890625 \r\nQ 49.859375 40.875 45.40625 35.40625 \r\nQ 44.1875 33.984375 37.640625 27.21875 \r\nQ 31.109375 20.453125 19.1875 8.296875 \r\nz\r\n\" id=\"DejaVuSans-50\"/>\r\n       </defs>\r\n       <use xlink:href=\"#DejaVuSans-50\"/>\r\n       <use x=\"63.623047\" xlink:href=\"#DejaVuSans-48\"/>\r\n       <use x=\"127.246094\" xlink:href=\"#DejaVuSans-48\"/>\r\n      </g>\r\n     </g>\r\n    </g>\r\n    <g id=\"xtick_6\">\r\n     <g id=\"line2d_6\">\r\n      <g>\r\n       <use style=\"stroke:#000000;stroke-width:0.8;\" x=\"298.747357\" xlink:href=\"#m4e1de732c4\" y=\"224.64\"/>\r\n      </g>\r\n     </g>\r\n     <g id=\"text_6\">\r\n      <!-- 250 -->\r\n      <g transform=\"translate(289.203607 239.238437)scale(0.1 -0.1)\">\r\n       <use xlink:href=\"#DejaVuSans-50\"/>\r\n       <use x=\"63.623047\" xlink:href=\"#DejaVuSans-53\"/>\r\n       <use x=\"127.246094\" xlink:href=\"#DejaVuSans-48\"/>\r\n      </g>\r\n     </g>\r\n    </g>\r\n    <g id=\"xtick_7\">\r\n     <g id=\"line2d_7\">\r\n      <g>\r\n       <use style=\"stroke:#000000;stroke-width:0.8;\" x=\"350.212294\" xlink:href=\"#m4e1de732c4\" y=\"224.64\"/>\r\n      </g>\r\n     </g>\r\n     <g id=\"text_7\">\r\n      <!-- 300 -->\r\n      <g transform=\"translate(340.668544 239.238437)scale(0.1 -0.1)\">\r\n       <defs>\r\n        <path d=\"M 40.578125 39.3125 \r\nQ 47.65625 37.796875 51.625 33 \r\nQ 55.609375 28.21875 55.609375 21.1875 \r\nQ 55.609375 10.40625 48.1875 4.484375 \r\nQ 40.765625 -1.421875 27.09375 -1.421875 \r\nQ 22.515625 -1.421875 17.65625 -0.515625 \r\nQ 12.796875 0.390625 7.625 2.203125 \r\nL 7.625 11.71875 \r\nQ 11.71875 9.328125 16.59375 8.109375 \r\nQ 21.484375 6.890625 26.8125 6.890625 \r\nQ 36.078125 6.890625 40.9375 10.546875 \r\nQ 45.796875 14.203125 45.796875 21.1875 \r\nQ 45.796875 27.640625 41.28125 31.265625 \r\nQ 36.765625 34.90625 28.71875 34.90625 \r\nL 20.21875 34.90625 \r\nL 20.21875 43.015625 \r\nL 29.109375 43.015625 \r\nQ 36.375 43.015625 40.234375 45.921875 \r\nQ 44.09375 48.828125 44.09375 54.296875 \r\nQ 44.09375 59.90625 40.109375 62.90625 \r\nQ 36.140625 65.921875 28.71875 65.921875 \r\nQ 24.65625 65.921875 20.015625 65.03125 \r\nQ 15.375 64.15625 9.8125 62.3125 \r\nL 9.8125 71.09375 \r\nQ 15.4375 72.65625 20.34375 73.4375 \r\nQ 25.25 74.21875 29.59375 74.21875 \r\nQ 40.828125 74.21875 47.359375 69.109375 \r\nQ 53.90625 64.015625 53.90625 55.328125 \r\nQ 53.90625 49.265625 50.4375 45.09375 \r\nQ 46.96875 40.921875 40.578125 39.3125 \r\nz\r\n\" id=\"DejaVuSans-51\"/>\r\n       </defs>\r\n       <use xlink:href=\"#DejaVuSans-51\"/>\r\n       <use x=\"63.623047\" xlink:href=\"#DejaVuSans-48\"/>\r\n       <use x=\"127.246094\" xlink:href=\"#DejaVuSans-48\"/>\r\n      </g>\r\n     </g>\r\n    </g>\r\n   </g>\r\n   <g id=\"matplotlib.axis_2\">\r\n    <g id=\"ytick_1\">\r\n     <g id=\"line2d_8\">\r\n      <defs>\r\n       <path d=\"M 0 0 \r\nL -3.5 0 \r\n\" id=\"m0fa2bdbd5f\" style=\"stroke:#000000;stroke-width:0.8;\"/>\r\n      </defs>\r\n      <g>\r\n       <use style=\"stroke:#000000;stroke-width:0.8;\" x=\"26.925\" xlink:href=\"#m0fa2bdbd5f\" y=\"188.296235\"/>\r\n      </g>\r\n     </g>\r\n     <g id=\"text_8\">\r\n      <!-- 5 -->\r\n      <g transform=\"translate(13.5625 192.095454)scale(0.1 -0.1)\">\r\n       <use xlink:href=\"#DejaVuSans-53\"/>\r\n      </g>\r\n     </g>\r\n    </g>\r\n    <g id=\"ytick_2\">\r\n     <g id=\"line2d_9\">\r\n      <g>\r\n       <use style=\"stroke:#000000;stroke-width:0.8;\" x=\"26.925\" xlink:href=\"#m0fa2bdbd5f\" y=\"149.384281\"/>\r\n      </g>\r\n     </g>\r\n     <g id=\"text_9\">\r\n      <!-- 10 -->\r\n      <g transform=\"translate(7.2 153.183499)scale(0.1 -0.1)\">\r\n       <use xlink:href=\"#DejaVuSans-49\"/>\r\n       <use x=\"63.623047\" xlink:href=\"#DejaVuSans-48\"/>\r\n      </g>\r\n     </g>\r\n    </g>\r\n    <g id=\"ytick_3\">\r\n     <g id=\"line2d_10\">\r\n      <g>\r\n       <use style=\"stroke:#000000;stroke-width:0.8;\" x=\"26.925\" xlink:href=\"#m0fa2bdbd5f\" y=\"110.472326\"/>\r\n      </g>\r\n     </g>\r\n     <g id=\"text_10\">\r\n      <!-- 15 -->\r\n      <g transform=\"translate(7.2 114.271545)scale(0.1 -0.1)\">\r\n       <use xlink:href=\"#DejaVuSans-49\"/>\r\n       <use x=\"63.623047\" xlink:href=\"#DejaVuSans-53\"/>\r\n      </g>\r\n     </g>\r\n    </g>\r\n    <g id=\"ytick_4\">\r\n     <g id=\"line2d_11\">\r\n      <g>\r\n       <use style=\"stroke:#000000;stroke-width:0.8;\" x=\"26.925\" xlink:href=\"#m0fa2bdbd5f\" y=\"71.560372\"/>\r\n      </g>\r\n     </g>\r\n     <g id=\"text_11\">\r\n      <!-- 20 -->\r\n      <g transform=\"translate(7.2 75.359591)scale(0.1 -0.1)\">\r\n       <use xlink:href=\"#DejaVuSans-50\"/>\r\n       <use x=\"63.623047\" xlink:href=\"#DejaVuSans-48\"/>\r\n      </g>\r\n     </g>\r\n    </g>\r\n    <g id=\"ytick_5\">\r\n     <g id=\"line2d_12\">\r\n      <g>\r\n       <use style=\"stroke:#000000;stroke-width:0.8;\" x=\"26.925\" xlink:href=\"#m0fa2bdbd5f\" y=\"32.648418\"/>\r\n      </g>\r\n     </g>\r\n     <g id=\"text_12\">\r\n      <!-- 25 -->\r\n      <g transform=\"translate(7.2 36.447637)scale(0.1 -0.1)\">\r\n       <use xlink:href=\"#DejaVuSans-50\"/>\r\n       <use x=\"63.623047\" xlink:href=\"#DejaVuSans-53\"/>\r\n      </g>\r\n     </g>\r\n    </g>\r\n   </g>\r\n   <g id=\"patch_3\">\r\n    <path d=\"M 26.925 224.64 \r\nL 26.925 7.2 \r\n\" style=\"fill:none;stroke:#000000;stroke-linecap:square;stroke-linejoin:miter;stroke-width:0.8;\"/>\r\n   </g>\r\n   <g id=\"patch_4\">\r\n    <path d=\"M 361.725 224.64 \r\nL 361.725 7.2 \r\n\" style=\"fill:none;stroke:#000000;stroke-linecap:square;stroke-linejoin:miter;stroke-width:0.8;\"/>\r\n   </g>\r\n   <g id=\"patch_5\">\r\n    <path d=\"M 26.925 224.64 \r\nL 361.725 224.64 \r\n\" style=\"fill:none;stroke:#000000;stroke-linecap:square;stroke-linejoin:miter;stroke-width:0.8;\"/>\r\n   </g>\r\n   <g id=\"patch_6\">\r\n    <path d=\"M 26.925 7.2 \r\nL 361.725 7.2 \r\n\" style=\"fill:none;stroke:#000000;stroke-linecap:square;stroke-linejoin:miter;stroke-width:0.8;\"/>\r\n   </g>\r\n  </g>\r\n </g>\r\n <defs>\r\n  <clipPath id=\"p2c984dcb6b\">\r\n   <rect height=\"217.44\" width=\"334.8\" x=\"26.925\" y=\"7.2\"/>\r\n  </clipPath>\r\n </defs>\r\n</svg>\r\n",
      "image/png": "[encoded data removed]"
     },
     "metadata": {
      "needs_background": "light"
     }
    }
   ],
   "source": [
    "plt.scatter(data.TV, data.sales)"
   ]
  },
  {
   "cell_type": "code",
   "execution_count": 7,
   "metadata": {},
   "outputs": [],
   "source": [
    "x = data.iloc[:, 1:-1]\n",
    "y = data.iloc[:, -1]"
   ]
  },
  {
   "cell_type": "code",
   "execution_count": 8,
   "metadata": {},
   "outputs": [],
   "source": [
    "model = tf.keras.Sequential([\n",
    "    tf.keras.layers.Dense(10, input_shape=(3,), activation='relu'),\n",
    "    tf.keras.layers.Dense(1)\n",
    "])"
   ]
  },
  {
   "cell_type": "code",
   "execution_count": 9,
   "metadata": {},
   "outputs": [
    {
     "output_type": "stream",
     "name": "stdout",
     "text": [
      "Model: \"sequential\"\n_________________________________________________________________\nLayer (type)                 Output Shape              Param #   \n=================================================================\ndense (Dense)                (None, 10)                40        \n_________________________________________________________________\ndense_1 (Dense)              (None, 1)                 11        \n=================================================================\nTotal params: 51\nTrainable params: 51\nNon-trainable params: 0\n_________________________________________________________________\n"
     ]
    }
   ],
   "source": [
    "model.summary()"
   ]
  },
  {
   "cell_type": "code",
   "execution_count": 10,
   "metadata": {},
   "outputs": [],
   "source": [
    "model.compile(optimizer='adam',\n",
    "              loss='mse'\n",
    ")"
   ]
  },
  {
   "cell_type": "code",
   "execution_count": 11,
   "metadata": {},
   "outputs": [
    {
     "output_type": "stream",
     "name": "stdout",
     "text": [
      "Epoch 1/100\n",
      "7/7 [==============================] - 0s 1ms/step - loss: 975.2742\n",
      "Epoch 2/100\n",
      "7/7 [==============================] - 0s 2ms/step - loss: 757.3734\n",
      "Epoch 3/100\n",
      "7/7 [==============================] - 0s 1ms/step - loss: 606.9473\n",
      "Epoch 4/100\n",
      "7/7 [==============================] - 0s 2ms/step - loss: 509.8486\n",
      "Epoch 5/100\n",
      "7/7 [==============================] - 0s 1ms/step - loss: 443.4716\n",
      "Epoch 6/100\n",
      "7/7 [==============================] - 0s 1ms/step - loss: 410.3655\n",
      "Epoch 7/100\n",
      "7/7 [==============================] - 0s 2ms/step - loss: 391.6524\n",
      "Epoch 8/100\n",
      "7/7 [==============================] - 0s 2ms/step - loss: 372.5578\n",
      "Epoch 9/100\n",
      "7/7 [==============================] - 0s 2ms/step - loss: 357.5788\n",
      "Epoch 10/100\n",
      "7/7 [==============================] - 0s 2ms/step - loss: 340.2420\n",
      "Epoch 11/100\n",
      "7/7 [==============================] - 0s 2ms/step - loss: 324.2901\n",
      "Epoch 12/100\n",
      "7/7 [==============================] - 0s 1ms/step - loss: 310.0647\n",
      "Epoch 13/100\n",
      "7/7 [==============================] - 0s 2ms/step - loss: 297.5779\n",
      "Epoch 14/100\n",
      "7/7 [==============================] - 0s 2ms/step - loss: 284.5810\n",
      "Epoch 15/100\n",
      "7/7 [==============================] - 0s 2ms/step - loss: 271.6378\n",
      "Epoch 16/100\n",
      "7/7 [==============================] - 0s 2ms/step - loss: 259.7477\n",
      "Epoch 17/100\n",
      "7/7 [==============================] - 0s 2ms/step - loss: 249.4600\n",
      "Epoch 18/100\n",
      "7/7 [==============================] - 0s 1ms/step - loss: 239.1467\n",
      "Epoch 19/100\n",
      "7/7 [==============================] - 0s 1ms/step - loss: 228.7956\n",
      "Epoch 20/100\n",
      "7/7 [==============================] - 0s 2ms/step - loss: 219.4007\n",
      "Epoch 21/100\n",
      "7/7 [==============================] - 0s 2ms/step - loss: 209.5569\n",
      "Epoch 22/100\n",
      "7/7 [==============================] - 0s 1ms/step - loss: 200.5927\n",
      "Epoch 23/100\n",
      "7/7 [==============================] - 0s 1ms/step - loss: 192.8716\n",
      "Epoch 24/100\n",
      "7/7 [==============================] - 0s 2ms/step - loss: 184.4997\n",
      "Epoch 25/100\n",
      "7/7 [==============================] - 0s 1ms/step - loss: 176.3924\n",
      "Epoch 26/100\n",
      "7/7 [==============================] - 0s 2ms/step - loss: 169.0977\n",
      "Epoch 27/100\n",
      "7/7 [==============================] - 0s 2ms/step - loss: 162.1854\n",
      "Epoch 28/100\n",
      "7/7 [==============================] - 0s 1ms/step - loss: 155.4893\n",
      "Epoch 29/100\n",
      "7/7 [==============================] - 0s 1ms/step - loss: 149.1567\n",
      "Epoch 30/100\n",
      "7/7 [==============================] - 0s 2ms/step - loss: 142.7381\n",
      "Epoch 31/100\n",
      "7/7 [==============================] - 0s 1ms/step - loss: 137.1147\n",
      "Epoch 32/100\n",
      "7/7 [==============================] - 0s 2ms/step - loss: 131.7875\n",
      "Epoch 33/100\n",
      "7/7 [==============================] - 0s 1ms/step - loss: 126.7430\n",
      "Epoch 34/100\n",
      "7/7 [==============================] - 0s 1ms/step - loss: 121.8519\n",
      "Epoch 35/100\n",
      "7/7 [==============================] - 0s 1ms/step - loss: 117.3191\n",
      "Epoch 36/100\n",
      "7/7 [==============================] - 0s 1ms/step - loss: 112.8347\n",
      "Epoch 37/100\n",
      "7/7 [==============================] - 0s 1ms/step - loss: 109.0341\n",
      "Epoch 38/100\n",
      "7/7 [==============================] - 0s 1ms/step - loss: 104.9340\n",
      "Epoch 39/100\n",
      "7/7 [==============================] - 0s 2ms/step - loss: 101.4733\n",
      "Epoch 40/100\n",
      "7/7 [==============================] - 0s 1ms/step - loss: 98.0553\n",
      "Epoch 41/100\n",
      "7/7 [==============================] - 0s 1ms/step - loss: 94.8984\n",
      "Epoch 42/100\n",
      "7/7 [==============================] - 0s 1ms/step - loss: 91.7676\n",
      "Epoch 43/100\n",
      "7/7 [==============================] - 0s 2ms/step - loss: 88.8005\n",
      "Epoch 44/100\n",
      "7/7 [==============================] - 0s 2ms/step - loss: 85.8572\n",
      "Epoch 45/100\n",
      "7/7 [==============================] - 0s 2ms/step - loss: 83.2036\n",
      "Epoch 46/100\n",
      "7/7 [==============================] - 0s 2ms/step - loss: 80.5039\n",
      "Epoch 47/100\n",
      "7/7 [==============================] - 0s 1ms/step - loss: 77.7575\n",
      "Epoch 48/100\n",
      "7/7 [==============================] - 0s 1ms/step - loss: 75.1856\n",
      "Epoch 49/100\n",
      "7/7 [==============================] - 0s 1ms/step - loss: 72.7374\n",
      "Epoch 50/100\n",
      "7/7 [==============================] - 0s 1ms/step - loss: 70.3297\n",
      "Epoch 51/100\n",
      "7/7 [==============================] - 0s 1ms/step - loss: 68.0031\n",
      "Epoch 52/100\n",
      "7/7 [==============================] - 0s 1ms/step - loss: 65.0943\n",
      "Epoch 53/100\n",
      "7/7 [==============================] - 0s 1ms/step - loss: 61.9978\n",
      "Epoch 54/100\n",
      "7/7 [==============================] - 0s 1ms/step - loss: 58.5767\n",
      "Epoch 55/100\n",
      "7/7 [==============================] - 0s 1ms/step - loss: 55.5210\n",
      "Epoch 56/100\n",
      "7/7 [==============================] - 0s 1ms/step - loss: 52.1363\n",
      "Epoch 57/100\n",
      "7/7 [==============================] - 0s 2ms/step - loss: 48.7137\n",
      "Epoch 58/100\n",
      "7/7 [==============================] - 0s 1ms/step - loss: 45.8042\n",
      "Epoch 59/100\n",
      "7/7 [==============================] - 0s 2ms/step - loss: 42.8157\n",
      "Epoch 60/100\n",
      "7/7 [==============================] - 0s 1ms/step - loss: 40.0846\n",
      "Epoch 61/100\n",
      "7/7 [==============================] - 0s 1ms/step - loss: 37.7873\n",
      "Epoch 62/100\n",
      "7/7 [==============================] - 0s 2ms/step - loss: 35.5286\n",
      "Epoch 63/100\n",
      "7/7 [==============================] - 0s 2ms/step - loss: 33.7976\n",
      "Epoch 64/100\n",
      "7/7 [==============================] - 0s 2ms/step - loss: 32.0713\n",
      "Epoch 65/100\n",
      "7/7 [==============================] - 0s 2ms/step - loss: 30.5634\n",
      "Epoch 66/100\n",
      "7/7 [==============================] - 0s 2ms/step - loss: 29.1551\n",
      "Epoch 67/100\n",
      "7/7 [==============================] - 0s 2ms/step - loss: 27.9527\n",
      "Epoch 68/100\n",
      "7/7 [==============================] - 0s 2ms/step - loss: 26.5991\n",
      "Epoch 69/100\n",
      "7/7 [==============================] - 0s 1ms/step - loss: 25.4438\n",
      "Epoch 70/100\n",
      "7/7 [==============================] - 0s 2ms/step - loss: 24.4010\n",
      "Epoch 71/100\n",
      "7/7 [==============================] - 0s 1ms/step - loss: 23.3699\n",
      "Epoch 72/100\n",
      "7/7 [==============================] - 0s 1ms/step - loss: 22.3538\n",
      "Epoch 73/100\n",
      "7/7 [==============================] - 0s 1ms/step - loss: 21.5309\n",
      "Epoch 74/100\n",
      "7/7 [==============================] - 0s 1ms/step - loss: 20.7565\n",
      "Epoch 75/100\n",
      "7/7 [==============================] - 0s 1ms/step - loss: 19.9143\n",
      "Epoch 76/100\n",
      "7/7 [==============================] - 0s 1ms/step - loss: 19.1872\n",
      "Epoch 77/100\n",
      "7/7 [==============================] - 0s 2ms/step - loss: 18.5177\n",
      "Epoch 78/100\n",
      "7/7 [==============================] - 0s 1ms/step - loss: 17.7414\n",
      "Epoch 79/100\n",
      "7/7 [==============================] - 0s 1ms/step - loss: 17.2325\n",
      "Epoch 80/100\n",
      "7/7 [==============================] - 0s 2ms/step - loss: 16.4973\n",
      "Epoch 81/100\n",
      "7/7 [==============================] - 0s 2ms/step - loss: 15.9091\n",
      "Epoch 82/100\n",
      "7/7 [==============================] - 0s 2ms/step - loss: 15.2840\n",
      "Epoch 83/100\n",
      "7/7 [==============================] - 0s 1ms/step - loss: 14.7858\n",
      "Epoch 84/100\n",
      "7/7 [==============================] - 0s 1ms/step - loss: 14.1002\n",
      "Epoch 85/100\n",
      "7/7 [==============================] - 0s 2ms/step - loss: 13.5052\n",
      "Epoch 86/100\n",
      "7/7 [==============================] - 0s 1ms/step - loss: 13.0640\n",
      "Epoch 87/100\n",
      "7/7 [==============================] - 0s 2ms/step - loss: 12.5608\n",
      "Epoch 88/100\n",
      "7/7 [==============================] - 0s 2ms/step - loss: 12.1206\n",
      "Epoch 89/100\n",
      "7/7 [==============================] - 0s 1ms/step - loss: 11.6929\n",
      "Epoch 90/100\n",
      "7/7 [==============================] - 0s 1ms/step - loss: 11.3032\n",
      "Epoch 91/100\n",
      "7/7 [==============================] - 0s 1ms/step - loss: 10.9360\n",
      "Epoch 92/100\n",
      "7/7 [==============================] - 0s 1ms/step - loss: 10.6272\n",
      "Epoch 93/100\n",
      "7/7 [==============================] - 0s 1ms/step - loss: 10.2583\n",
      "Epoch 94/100\n",
      "7/7 [==============================] - 0s 1ms/step - loss: 9.9679\n",
      "Epoch 95/100\n",
      "7/7 [==============================] - 0s 1ms/step - loss: 9.6165\n",
      "Epoch 96/100\n",
      "7/7 [==============================] - 0s 1ms/step - loss: 9.2220\n",
      "Epoch 97/100\n",
      "7/7 [==============================] - 0s 1ms/step - loss: 8.9816\n",
      "Epoch 98/100\n",
      "7/7 [==============================] - 0s 1ms/step - loss: 8.6884\n",
      "Epoch 99/100\n",
      "7/7 [==============================] - 0s 1ms/step - loss: 8.4182\n",
      "Epoch 100/100\n",
      "7/7 [==============================] - 0s 1ms/step - loss: 8.1617\n"
     ]
    },
    {
     "output_type": "execute_result",
     "data": {
      "text/plain": [
       "<tensorflow.python.keras.callbacks.History at 0x2e3db5d2208>"
      ]
     },
     "metadata": {},
     "execution_count": 11
    }
   ],
   "source": [
    "model.fit(x, y, epochs=100)"
   ]
  },
  {
   "cell_type": "code",
   "execution_count": 12,
   "metadata": {},
   "outputs": [],
   "source": [
    "test = data.iloc[:2, 1:-1]"
   ]
  },
  {
   "source": [
    "model.predict(test)"
   ],
   "cell_type": "code",
   "metadata": {},
   "execution_count": 13,
   "outputs": [
    {
     "output_type": "execute_result",
     "data": {
      "text/plain": [
       "array([[24.76838 ],\n",
       "       [ 7.424155]], dtype=float32)"
      ]
     },
     "metadata": {},
     "execution_count": 13
    }
   ]
  },
  {
   "cell_type": "code",
   "execution_count": null,
   "metadata": {},
   "outputs": [],
   "source": []
  }
 ]
}