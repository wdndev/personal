{
 "metadata": {
  "language_info": {
   "codemirror_mode": {
    "name": "ipython",
    "version": 3
   },
   "file_extension": ".py",
   "mimetype": "text/x-python",
   "name": "python",
   "nbconvert_exporter": "python",
   "pygments_lexer": "ipython3",
   "version": "3.6.8-final"
  },
  "orig_nbformat": 2,
  "kernelspec": {
   "name": "python3",
   "display_name": "Python 3",
   "language": "python"
  }
 },
 "nbformat": 4,
 "nbformat_minor": 2,
 "cells": [
  {
   "source": [
    "### fashion_mnist分类"
   ],
   "cell_type": "markdown",
   "metadata": {}
  },
  {
   "cell_type": "code",
   "execution_count": 1,
   "metadata": {},
   "outputs": [],
   "source": [
    "import numpy as np\n",
    "import tensorflow as tf\n",
    "import os\n",
    "import keras"
   ]
  },
  {
   "cell_type": "code",
   "execution_count": 2,
   "metadata": {},
   "outputs": [
    {
     "output_type": "stream",
     "name": "stdout",
     "text": [
      "2.2.0\n"
     ]
    }
   ],
   "source": [
    "print(tf.__version__)"
   ]
  },
  {
   "source": [
    "**加载本地fashion_mnist数据集**\n",
    "\n",
    "下载到本地的数据集一般有两种格式：numpy的压缩格式.npz，以及gzip压缩格式.gz\n",
    "\n",
    "1、加载npz格式数据集"
   ],
   "cell_type": "markdown",
   "metadata": {}
  },
  {
   "source": [
    "def load_npz_data(data_path):\n",
    "    data = np.load(data_path)\n",
    "    x_train, y_train, x_test, y_test =  data['x_train'],data['y_train'],data['x_test'],data['y_test']\n",
    "\n",
    "    # 可以将其中一条数据保存成txt文件，查看一下，会对这组数据有个直观的感受\n",
    "    # np.savetxt('test.txt',x_train[0],fmt='%3d',newline='\\n\\n')\n",
    "    \n",
    "    # 将数据归一化\n",
    "    x_train, x_test = x_train/255.0, x_test/255.0\n",
    "\n",
    "    return x_train, y_train, x_test, y_test"
   ],
   "cell_type": "code",
   "metadata": {},
   "execution_count": 3,
   "outputs": []
  },
  {
   "source": [
    "2、加载gz格式数据集"
   ],
   "cell_type": "markdown",
   "metadata": {}
  },
  {
   "cell_type": "code",
   "execution_count": 4,
   "metadata": {},
   "outputs": [],
   "source": [
    "def load_gz_data(data_path):\n",
    "    import os\n",
    "    import gzip\n",
    "\n",
    "    # 定义加载数据的函数，data_path为保存gz数据的文件夹，该文件夹下有4个文件\n",
    "    # 'train-labels-idx1-ubyte.gz', 'train-images-idx3-ubyte.gz',\n",
    "    # 't10k-labels-idx1-ubyte.gz', 't10k-images-idx3-ubyte.gz'\n",
    "\n",
    "    files = [\n",
    "      'train-labels-idx1-ubyte.gz', 'train-images-idx3-ubyte.gz',\n",
    "      't10k-labels-idx1-ubyte.gz', 't10k-images-idx3-ubyte.gz'\n",
    "    ]\n",
    "    paths = []\n",
    "    for fname in files:\n",
    "        paths.append(os.path.join(data_path,fname))\n",
    "\n",
    "    with gzip.open(paths[0], 'rb') as lbpath:\n",
    "        y_train = np.frombuffer(lbpath.read(), np.uint8, offset=8)\n",
    "\n",
    "    with gzip.open(paths[1], 'rb') as imgpath:\n",
    "        x_train = np.frombuffer(\n",
    "            imgpath.read(), np.uint8, offset=16).reshape(len(y_train), 28, 28)\n",
    "\n",
    "    with gzip.open(paths[2], 'rb') as lbpath:\n",
    "        y_test = np.frombuffer(lbpath.read(), np.uint8, offset=8)\n",
    "\n",
    "    with gzip.open(paths[3], 'rb') as imgpath:\n",
    "        x_test = np.frombuffer(\n",
    "            imgpath.read(), np.uint8, offset=16).reshape(len(y_test), 28, 28)\n",
    "\n",
    "    return (x_train, y_train), (x_test, y_test)"
   ]
  },
  {
   "source": [
    "#### 加载fashin_mnist数据集"
   ],
   "cell_type": "markdown",
   "metadata": {}
  },
  {
   "cell_type": "code",
   "execution_count": 5,
   "metadata": {},
   "outputs": [],
   "source": [
    "(train_images, train_labels), (test_images, test_labels) = load_gz_data(\"E:/02Studying/03DeepLearning/dataset/fashin_mnist\")"
   ]
  },
  {
   "source": [
    "显示部分fashin_mnist数据集"
   ],
   "cell_type": "markdown",
   "metadata": {}
  },
  {
   "cell_type": "code",
   "execution_count": 6,
   "metadata": {},
   "outputs": [
    {
     "output_type": "stream",
     "name": "stdout",
     "text": [
      "9\n[[  0   0   0   0   0   0   0   0   0   0   0   0   0   0   0   0   0   0\n    0   0   0   0   0   0   0   0   0   0]\n [  0   0   0   0   0   0   0   0   0   0   0   0   0   0   0   0   0   0\n    0   0   0   0   0   0   0   0   0   0]\n [  0   0   0   0   0   0   0   0   0   0   0   0   0   0   0   0   0   0\n    0   0   0   0   0   0   0   0   0   0]\n [  0   0   0   0   0   0   0   0   0   0   0   0   0   0   0   0   0   0\n    0   0   0   0   0   0   0   0   0   0]\n [  0   0   0   0   0   0   0   0   0   0   0   0   0   0   0   0   0   0\n    0   0   0   0   0   0   0   0   0   0]\n [  0   0   0   0   0   0   0   0   0   0   0   0   0   0   0   0  82 187\n   26   0   0   0   0   0   0   0   0   0]\n [  0   0   0   0   0   0   0   0   0   1   0   0   1   0   0 179 240 237\n  255 240 139  83  64  43  60  54   0   1]\n [  0   0   0   0   0   0   0   0   0   1   0   0   1   0  58 239 222 234\n  238 246 252 254 255 248 255 187   0   0]\n [  0   0   0   0   0   0   0   0   0   0   2   3   0   0 194 239 226 237\n  235 232 230 234 234 233 249 171   0   0]\n [  0   0   0   0   0   0   0   0   0   1   1   0   0  10 255 226 242 239\n  238 239 240 239 242 238 248 192   0   0]\n [  0   0   0   0   0   0   0   0   0   0   0   0   0 172 245 229 240 241\n  240 241 243 243 241 227 250 209   0   0]\n [  0   0   0   0   0   0   0   0   0   6   5   0  62 255 230 236 239 241\n  242 241 242 242 238 238 242 253   0   0]\n [  0   0   0   0   0   0   0   0   0   3   0   0 255 235 228 244 241 241\n  244 243 243 244 243 239 235 255  22   0]\n [  0   0   0   0   0   0   0   0   0   0   0 246 228 220 245 243 237 241\n  242 242 242 243 239 237 235 253 106   0]\n [  0   0   3   4   4   2   1   0   0  18 243 228 231 241 243 237 238 242\n  241 240 240 240 235 237 236 246 234   0]\n [  1   0   0   0   0   0   0   0  22 255 238 227 238 239 237 241 241 237\n  236 238 239 239 239 239 239 237 255   0]\n [  0   0   0   0   0  25  83 168 255 225 225 235 228 230 227 225 227 231\n  232 237 240 236 238 239 239 235 251  62]\n [  0 165 225 220 224 255 255 233 229 223 227 228 231 232 235 237 233 230\n  228 230 233 232 235 233 234 235 255  58]\n [ 52 251 221 226 227 225 225 225 226 226 225 227 231 229 232 239 245 250\n  251 252 254 254 252 254 252 235 255   0]\n [ 31 208 230 233 233 237 236 236 241 235 241 247 251 254 242 236 233 227\n  219 202 193 189 186 181 171 165 190  42]\n [ 77 199 172 188 199 202 218 219 220 229 234 222 213 209 207 210 203 184\n  152 171 165 162 162 167 168 157 192  78]\n [  0  45 101 140 159 174 182 186 185 188 195 197 188 175 133  70  19   0\n    0 209 231 218 222 224 227 217 229  93]\n [  0   0   0   0   0   0   2  24  37  45  32  18  11   0   0   0   0   0\n    0  72  51  53  37  34  29  31   5   0]\n [  0   0   0   0   0   0   0   0   0   0   0   0   0   0   0   0   0   0\n    0   0   0   0   0   0   0   0   0   0]\n [  0   0   0   0   0   0   0   0   0   0   0   0   0   0   0   0   0   0\n    0   0   0   0   0   0   0   0   0   0]\n [  0   0   0   0   0   0   0   0   0   0   0   0   0   0   0   0   0   0\n    0   0   0   0   0   0   0   0   0   0]\n [  0   0   0   0   0   0   0   0   0   0   0   0   0   0   0   0   0   0\n    0   0   0   0   0   0   0   0   0   0]\n [  0   0   0   0   0   0   0   0   0   0   0   0   0   0   0   0   0   0\n    0   0   0   0   0   0   0   0   0   0]]\n"
     ]
    },
    {
     "output_type": "display_data",
     "data": {
      "text/plain": "<Figure size 432x288 with 1 Axes>",
      "image/svg+xml": "<?xml version=\"1.0\" encoding=\"utf-8\" standalone=\"no\"?>\r\n<!DOCTYPE svg PUBLIC \"-//W3C//DTD SVG 1.1//EN\"\r\n  \"http://www.w3.org/Graphics/SVG/1.1/DTD/svg11.dtd\">\r\n<!-- Created with matplotlib (https://matplotlib.org/) -->\r\n<svg height=\"248.518125pt\" version=\"1.1\" viewBox=\"0 0 251.565 248.518125\" width=\"251.565pt\" xmlns=\"http://www.w3.org/2000/svg\" xmlns:xlink=\"http://www.w3.org/1999/xlink\">\r\n <metadata>\r\n  <rdf:RDF xmlns:cc=\"http://creativecommons.org/ns#\" xmlns:dc=\"http://purl.org/dc/elements/1.1/\" xmlns:rdf=\"http://www.w3.org/1999/02/22-rdf-syntax-ns#\">\r\n   <cc:Work>\r\n    <dc:type rdf:resource=\"http://purl.org/dc/dcmitype/StillImage\"/>\r\n    <dc:date>2020-12-27T20:37:22.150591</dc:date>\r\n    <dc:format>image/svg+xml</dc:format>\r\n    <dc:creator>\r\n     <cc:Agent>\r\n      <dc:title>Matplotlib v3.3.3, https://matplotlib.org/</dc:title>\r\n     </cc:Agent>\r\n    </dc:creator>\r\n   </cc:Work>\r\n  </rdf:RDF>\r\n </metadata>\r\n <defs>\r\n  <style type=\"text/css\">*{stroke-linecap:butt;stroke-linejoin:round;}</style>\r\n </defs>\r\n <g id=\"figure_1\">\r\n  <g id=\"patch_1\">\r\n   <path d=\"M 0 248.518125 \r\nL 251.565 248.518125 \r\nL 251.565 0 \r\nL 0 0 \r\nz\r\n\" style=\"fill:none;\"/>\r\n  </g>\r\n  <g id=\"axes_1\">\r\n   <g id=\"patch_2\">\r\n    <path d=\"M 26.925 224.64 \r\nL 244.365 224.64 \r\nL 244.365 7.2 \r\nL 26.925 7.2 \r\nz\r\n\" style=\"fill:#ffffff;\"/>\r\n   </g>\r\n   <g clip-path=\"url(#pb036b95703)\">\r\n    <image height=\"218\" id=\"image6ff63848fe\" transform=\"scale(1 -1)translate(0 -218)\" width=\"218\" x=\"26.925\" xlink:href=\"data:image/png;base64,\r\niVBORw0KGgoAAAANSUhEUgAAANoAAADaCAYAAADAHVzbAAAJIUlEQVR4nO3d3YucZx3G8fuZeXZmd7az2byQbNpuG0IVTG0JBtElUiQsVPTAHsQWD1oqoqIgFv0LeqDnIrGgZ4qg0gOJWBRRxNdqjBTShjSx2iSmaZqsO9nN7O68Pp4L9/UrGXslsd/P6bX3vOzONQ/sj/t+iuXiaJUAvKNqt/oFAO8GFA0woGiAAUUDDCgaYEDRAAOKBhhQNMCAogEGFA0woGiAAUUDDCgaYEDRAAOKBhhQNMCAogEGFA0woGiAAUUDDCgaYEDRAAOKBhhQNMCAogEGFA0woGiAAUUDDCgaYEDRAAOKBhhQNMCAogEGFA0woGiAAUUDDCgaYEDRAIPyVr+AidTq2ai8/165dDR/l8zHrSmZl51NmRf/vp7Nqk29dtTJr73drX36wzJvXRlksyr42m+sbMm8GI103hvqJ6jnX8D4tfNyadXryZwrGmBA0QADigYYUDTAgKIBBhQNMKBogEGxXByt1A9Uhw/KB7h8uJXNbjyQn5mklNLMDj1P2tXuynyumZ+rTNf1c4+rQuaNup7JbJvSr32qGGeza/1ZufbN7pzML5zdI/OF3+n3tv33F7LZ8NIbcm3kyCn9N1uaPZfN/tHfLde2anpW1Sj032y60J+JS4Pt2Wxf46pc+7VvfkHmXNEAA4oGGFA0wICiAQYUDTCgaIABRQMMys5TS/IHlr5yQubdq/dlswfbHbl2YXpN5s2a3j/0vpn8zKeW8nOslFKqF3J8mBbKjszbNb036vXBrmx2ZTAv127MNWQ+WDgj8+ZH9bxodZCf451e2yvXvnxJ52v/Wpf5D/uHstlwPNn3fqPUn5eaHi+m9Y1mNlu673X93Nf154krGmBA0QADigYYUDTAgKIBBhQNMCh3/nVF/sDuKf3v2q+/5yfZLNqWEGnVJtvqorSDx+6M9b/Y52t9me8Xo4dWS2+5aBb6FMALww2ZXx/ro/K2qvzjP9J+Va59a09b5q9s6mP+rvXyx/xtjvTr7o/zxwumlNLGUP/NVrdmZD7TzH8mBsFzb39Vbw/iigYYUDTAgKIBBhQNMKBogAFFAwwoGmBQ9vbqucgzO07J/Hg3f/RZu66PZKsnvbXgrZGeXUyiLo6DezsuDfV3lDr6LDo2bVDp9z1d5I/4SymlHcEWnj3iKL73B/PFWtJz1Sfal2Veppv/mw6TPk4ueuxo/cv9/OfxUFPP6B598aDMuaIBBhQNMKBogAFFAwwoGmBA0QADigYYlOWvTsofOHzyKZk/e+B4NuuM9O2JZoN50mOzN2SuvLilZybdSs9FJn3t0XF3SrSPb7rQx6oNgu/P88P8sWpbVbAnLJjxTXLrpFHS+wungyMCB1Vw5FuwfXGSqW3v4x/Uzz3BYwN4mygaYEDRAAOKBhhQNMCAogEGFA0w0AcIppR2f1LfIuhYeu//7MX8t+/u3yfzK0fytxAqHtPnVZ74wI9lfryrZ1XRPOmeMr9vayWY0UWzqPWxPp9wkllXtFduNpjhtYPzLqfFc2+M9cdxKthD2ApeW2RDnHe5Mdbvazylh3Rc0QADigYYUDTAgKIBBhQNMKBogEGxXPuU3lsQbD24U5X3L8r8Z3/6qcxf6euj9C4O57PZYtmRa2vBMXzRNpjoX/BKV/yLO6X4VlnRv+Cj93Yrqd/rw41pufbRuw/KnCsaYEDRAAOKBhhQNMCAogEGFA0woGiAQTnpnKwoxdylmKzH1UhvF0mVmNkE72t4/qLMP3HoYzJ/7s/Py1wdN7cSbHO5p66P2ZsNZlWdYLuJul1WO5jBjYMj26Ij4yaxPtZH4UUzvGgGeHeZf+9/6ekjACNc0QADigYYUDTAgKIBBhQNMKBogAFFAwyK5eLo7btB6A72/Yt/yGYv9ebl2qujOZkfmTkv82jio+Zs0V62d/KbuR6M4Lpj/ezRPr1BpfOHG/lj+g4e+7Jce+83/ihzrmiAAUUDDCgaYEDRAAOKBhhQNMCAogEG4W2b3q3kPruUUjXU86YnFw9ns1+88ZJce7J3Wean+ttlfqCxKvNJzn0M7k4kduHFom/92Zp+9G7w5NGcbarIz9H2/UDvX4x+o1zRAAOKBhhQNMCAogEGFA0woGiAAUUDDJijZURztFTPz1xSSqnq9bLZI1/8vFz72+e+I/PfbOrzLq+N9PmHzSK/vhGcjTgIdi9GczT1zR6c4pk2Kv07j+yo9WU+EI8fnQMa4YoGGFA0wICiAQYUDTCgaIABRQMMOG7uNnTj5/tl/vyB78n89GCbzBfLtWymbumUUnxbpmh9tM1GiUYL5wY7Zf6R6esyP7b6UDb79UOz+skDXNEAA4oGGFA0wICiAQYUDTCgaIABRQMM2CaTU0ww8Ekppermx5PbHr8m871n7pL53/p6m8yUmHVtBbc2GgdztFE4h8vno0o/9nSwhWex7Mh8EPxNznQXRLou10a4ogEGFA0woGiAAUUDDCgaYEDRAAOKBhgwR8uJ5mA1ffRZUc/PhKJbPo3W8vvFUkrpcxfzt4RKKaWv7vmlzE8PdmWzeBalv5u3Kv2RGoi8Vcsf0ZdSSuvRUXfBa6uV+ri5M6u7s9kcczTg9kfRAAOKBhhQNMCAogEGFA0woGiAAXO0nGg/2ljfZKhSW6eixw5meOeePaDXf1vP0brjZjbbCm6NNFvoGeBiOZD5tlojm5VJP3e90NeF1dFG8NwtmS+2O9lMnwgZ44oGGFA0wICiAQYUDTCgaIABRQMMKBpgwBztDtR84YTMn3ntcZl/64EfZbNojvZgY0bmZwddmX/ohS9ls50n9MdxZkWf6zjz5pbMezvz88OUUqr3848/lVbk2mg2yhUNMKBogAFFAwwoGmBA0QADigYYFMvF0Zu/vxDuSCufXcpm+z9zVq698fSczEd//+dNvab/d1zRAAOKBhhQNMCAogEGFA0woGiAAUUDDJijAQZc0QADigYYUDTAgKIBBhQNMKBogAFFAwwoGmBA0QADigYYUDTAgKIBBhQNMKBogAFFAwwoGmBA0QADigYYUDTAgKIBBhQNMKBogAFFAwwoGmBA0QADigYYUDTAgKIBBhQNMKBogAFFAwwoGmBA0QADigYYUDTAgKIBBhQNMKBogMF/AO5F7C/mh+y9AAAAAElFTkSuQmCC\" y=\"-6.64\"/>\r\n   </g>\r\n   <g id=\"matplotlib.axis_1\">\r\n    <g id=\"xtick_1\">\r\n     <g id=\"line2d_1\">\r\n      <defs>\r\n       <path d=\"M 0 0 \r\nL 0 3.5 \r\n\" id=\"m74b2695b42\" style=\"stroke:#000000;stroke-width:0.8;\"/>\r\n      </defs>\r\n      <g>\r\n       <use style=\"stroke:#000000;stroke-width:0.8;\" x=\"30.807857\" xlink:href=\"#m74b2695b42\" y=\"224.64\"/>\r\n      </g>\r\n     </g>\r\n     <g id=\"text_1\">\r\n      <!-- 0 -->\r\n      <g transform=\"translate(27.626607 239.238437)scale(0.1 -0.1)\">\r\n       <defs>\r\n        <path d=\"M 31.78125 66.40625 \r\nQ 24.171875 66.40625 20.328125 58.90625 \r\nQ 16.5 51.421875 16.5 36.375 \r\nQ 16.5 21.390625 20.328125 13.890625 \r\nQ 24.171875 6.390625 31.78125 6.390625 \r\nQ 39.453125 6.390625 43.28125 13.890625 \r\nQ 47.125 21.390625 47.125 36.375 \r\nQ 47.125 51.421875 43.28125 58.90625 \r\nQ 39.453125 66.40625 31.78125 66.40625 \r\nz\r\nM 31.78125 74.21875 \r\nQ 44.046875 74.21875 50.515625 64.515625 \r\nQ 56.984375 54.828125 56.984375 36.375 \r\nQ 56.984375 17.96875 50.515625 8.265625 \r\nQ 44.046875 -1.421875 31.78125 -1.421875 \r\nQ 19.53125 -1.421875 13.0625 8.265625 \r\nQ 6.59375 17.96875 6.59375 36.375 \r\nQ 6.59375 54.828125 13.0625 64.515625 \r\nQ 19.53125 74.21875 31.78125 74.21875 \r\nz\r\n\" id=\"DejaVuSans-48\"/>\r\n       </defs>\r\n       <use xlink:href=\"#DejaVuSans-48\"/>\r\n      </g>\r\n     </g>\r\n    </g>\r\n    <g id=\"xtick_2\">\r\n     <g id=\"line2d_2\">\r\n      <g>\r\n       <use style=\"stroke:#000000;stroke-width:0.8;\" x=\"69.636429\" xlink:href=\"#m74b2695b42\" y=\"224.64\"/>\r\n      </g>\r\n     </g>\r\n     <g id=\"text_2\">\r\n      <!-- 5 -->\r\n      <g transform=\"translate(66.455179 239.238437)scale(0.1 -0.1)\">\r\n       <defs>\r\n        <path d=\"M 10.796875 72.90625 \r\nL 49.515625 72.90625 \r\nL 49.515625 64.59375 \r\nL 19.828125 64.59375 \r\nL 19.828125 46.734375 \r\nQ 21.96875 47.46875 24.109375 47.828125 \r\nQ 26.265625 48.1875 28.421875 48.1875 \r\nQ 40.625 48.1875 47.75 41.5 \r\nQ 54.890625 34.8125 54.890625 23.390625 \r\nQ 54.890625 11.625 47.5625 5.09375 \r\nQ 40.234375 -1.421875 26.90625 -1.421875 \r\nQ 22.3125 -1.421875 17.546875 -0.640625 \r\nQ 12.796875 0.140625 7.71875 1.703125 \r\nL 7.71875 11.625 \r\nQ 12.109375 9.234375 16.796875 8.0625 \r\nQ 21.484375 6.890625 26.703125 6.890625 \r\nQ 35.15625 6.890625 40.078125 11.328125 \r\nQ 45.015625 15.765625 45.015625 23.390625 \r\nQ 45.015625 31 40.078125 35.4375 \r\nQ 35.15625 39.890625 26.703125 39.890625 \r\nQ 22.75 39.890625 18.8125 39.015625 \r\nQ 14.890625 38.140625 10.796875 36.28125 \r\nz\r\n\" id=\"DejaVuSans-53\"/>\r\n       </defs>\r\n       <use xlink:href=\"#DejaVuSans-53\"/>\r\n      </g>\r\n     </g>\r\n    </g>\r\n    <g id=\"xtick_3\">\r\n     <g id=\"line2d_3\">\r\n      <g>\r\n       <use style=\"stroke:#000000;stroke-width:0.8;\" x=\"108.465\" xlink:href=\"#m74b2695b42\" y=\"224.64\"/>\r\n      </g>\r\n     </g>\r\n     <g id=\"text_3\">\r\n      <!-- 10 -->\r\n      <g transform=\"translate(102.1025 239.238437)scale(0.1 -0.1)\">\r\n       <defs>\r\n        <path d=\"M 12.40625 8.296875 \r\nL 28.515625 8.296875 \r\nL 28.515625 63.921875 \r\nL 10.984375 60.40625 \r\nL 10.984375 69.390625 \r\nL 28.421875 72.90625 \r\nL 38.28125 72.90625 \r\nL 38.28125 8.296875 \r\nL 54.390625 8.296875 \r\nL 54.390625 0 \r\nL 12.40625 0 \r\nz\r\n\" id=\"DejaVuSans-49\"/>\r\n       </defs>\r\n       <use xlink:href=\"#DejaVuSans-49\"/>\r\n       <use x=\"63.623047\" xlink:href=\"#DejaVuSans-48\"/>\r\n      </g>\r\n     </g>\r\n    </g>\r\n    <g id=\"xtick_4\">\r\n     <g id=\"line2d_4\">\r\n      <g>\r\n       <use style=\"stroke:#000000;stroke-width:0.8;\" x=\"147.293571\" xlink:href=\"#m74b2695b42\" y=\"224.64\"/>\r\n      </g>\r\n     </g>\r\n     <g id=\"text_4\">\r\n      <!-- 15 -->\r\n      <g transform=\"translate(140.931071 239.238437)scale(0.1 -0.1)\">\r\n       <use xlink:href=\"#DejaVuSans-49\"/>\r\n       <use x=\"63.623047\" xlink:href=\"#DejaVuSans-53\"/>\r\n      </g>\r\n     </g>\r\n    </g>\r\n    <g id=\"xtick_5\">\r\n     <g id=\"line2d_5\">\r\n      <g>\r\n       <use style=\"stroke:#000000;stroke-width:0.8;\" x=\"186.122143\" xlink:href=\"#m74b2695b42\" y=\"224.64\"/>\r\n      </g>\r\n     </g>\r\n     <g id=\"text_5\">\r\n      <!-- 20 -->\r\n      <g transform=\"translate(179.759643 239.238437)scale(0.1 -0.1)\">\r\n       <defs>\r\n        <path d=\"M 19.1875 8.296875 \r\nL 53.609375 8.296875 \r\nL 53.609375 0 \r\nL 7.328125 0 \r\nL 7.328125 8.296875 \r\nQ 12.9375 14.109375 22.625 23.890625 \r\nQ 32.328125 33.6875 34.8125 36.53125 \r\nQ 39.546875 41.84375 41.421875 45.53125 \r\nQ 43.3125 49.21875 43.3125 52.78125 \r\nQ 43.3125 58.59375 39.234375 62.25 \r\nQ 35.15625 65.921875 28.609375 65.921875 \r\nQ 23.96875 65.921875 18.8125 64.3125 \r\nQ 13.671875 62.703125 7.8125 59.421875 \r\nL 7.8125 69.390625 \r\nQ 13.765625 71.78125 18.9375 73 \r\nQ 24.125 74.21875 28.421875 74.21875 \r\nQ 39.75 74.21875 46.484375 68.546875 \r\nQ 53.21875 62.890625 53.21875 53.421875 \r\nQ 53.21875 48.921875 51.53125 44.890625 \r\nQ 49.859375 40.875 45.40625 35.40625 \r\nQ 44.1875 33.984375 37.640625 27.21875 \r\nQ 31.109375 20.453125 19.1875 8.296875 \r\nz\r\n\" id=\"DejaVuSans-50\"/>\r\n       </defs>\r\n       <use xlink:href=\"#DejaVuSans-50\"/>\r\n       <use x=\"63.623047\" xlink:href=\"#DejaVuSans-48\"/>\r\n      </g>\r\n     </g>\r\n    </g>\r\n    <g id=\"xtick_6\">\r\n     <g id=\"line2d_6\">\r\n      <g>\r\n       <use style=\"stroke:#000000;stroke-width:0.8;\" x=\"224.950714\" xlink:href=\"#m74b2695b42\" y=\"224.64\"/>\r\n      </g>\r\n     </g>\r\n     <g id=\"text_6\">\r\n      <!-- 25 -->\r\n      <g transform=\"translate(218.588214 239.238437)scale(0.1 -0.1)\">\r\n       <use xlink:href=\"#DejaVuSans-50\"/>\r\n       <use x=\"63.623047\" xlink:href=\"#DejaVuSans-53\"/>\r\n      </g>\r\n     </g>\r\n    </g>\r\n   </g>\r\n   <g id=\"matplotlib.axis_2\">\r\n    <g id=\"ytick_1\">\r\n     <g id=\"line2d_7\">\r\n      <defs>\r\n       <path d=\"M 0 0 \r\nL -3.5 0 \r\n\" id=\"m9f08c5af37\" style=\"stroke:#000000;stroke-width:0.8;\"/>\r\n      </defs>\r\n      <g>\r\n       <use style=\"stroke:#000000;stroke-width:0.8;\" x=\"26.925\" xlink:href=\"#m9f08c5af37\" y=\"11.082857\"/>\r\n      </g>\r\n     </g>\r\n     <g id=\"text_7\">\r\n      <!-- 0 -->\r\n      <g transform=\"translate(13.5625 14.882076)scale(0.1 -0.1)\">\r\n       <use xlink:href=\"#DejaVuSans-48\"/>\r\n      </g>\r\n     </g>\r\n    </g>\r\n    <g id=\"ytick_2\">\r\n     <g id=\"line2d_8\">\r\n      <g>\r\n       <use style=\"stroke:#000000;stroke-width:0.8;\" x=\"26.925\" xlink:href=\"#m9f08c5af37\" y=\"49.911429\"/>\r\n      </g>\r\n     </g>\r\n     <g id=\"text_8\">\r\n      <!-- 5 -->\r\n      <g transform=\"translate(13.5625 53.710647)scale(0.1 -0.1)\">\r\n       <use xlink:href=\"#DejaVuSans-53\"/>\r\n      </g>\r\n     </g>\r\n    </g>\r\n    <g id=\"ytick_3\">\r\n     <g id=\"line2d_9\">\r\n      <g>\r\n       <use style=\"stroke:#000000;stroke-width:0.8;\" x=\"26.925\" xlink:href=\"#m9f08c5af37\" y=\"88.74\"/>\r\n      </g>\r\n     </g>\r\n     <g id=\"text_9\">\r\n      <!-- 10 -->\r\n      <g transform=\"translate(7.2 92.539219)scale(0.1 -0.1)\">\r\n       <use xlink:href=\"#DejaVuSans-49\"/>\r\n       <use x=\"63.623047\" xlink:href=\"#DejaVuSans-48\"/>\r\n      </g>\r\n     </g>\r\n    </g>\r\n    <g id=\"ytick_4\">\r\n     <g id=\"line2d_10\">\r\n      <g>\r\n       <use style=\"stroke:#000000;stroke-width:0.8;\" x=\"26.925\" xlink:href=\"#m9f08c5af37\" y=\"127.568571\"/>\r\n      </g>\r\n     </g>\r\n     <g id=\"text_10\">\r\n      <!-- 15 -->\r\n      <g transform=\"translate(7.2 131.36779)scale(0.1 -0.1)\">\r\n       <use xlink:href=\"#DejaVuSans-49\"/>\r\n       <use x=\"63.623047\" xlink:href=\"#DejaVuSans-53\"/>\r\n      </g>\r\n     </g>\r\n    </g>\r\n    <g id=\"ytick_5\">\r\n     <g id=\"line2d_11\">\r\n      <g>\r\n       <use style=\"stroke:#000000;stroke-width:0.8;\" x=\"26.925\" xlink:href=\"#m9f08c5af37\" y=\"166.397143\"/>\r\n      </g>\r\n     </g>\r\n     <g id=\"text_11\">\r\n      <!-- 20 -->\r\n      <g transform=\"translate(7.2 170.196362)scale(0.1 -0.1)\">\r\n       <use xlink:href=\"#DejaVuSans-50\"/>\r\n       <use x=\"63.623047\" xlink:href=\"#DejaVuSans-48\"/>\r\n      </g>\r\n     </g>\r\n    </g>\r\n    <g id=\"ytick_6\">\r\n     <g id=\"line2d_12\">\r\n      <g>\r\n       <use style=\"stroke:#000000;stroke-width:0.8;\" x=\"26.925\" xlink:href=\"#m9f08c5af37\" y=\"205.225714\"/>\r\n      </g>\r\n     </g>\r\n     <g id=\"text_12\">\r\n      <!-- 25 -->\r\n      <g transform=\"translate(7.2 209.024933)scale(0.1 -0.1)\">\r\n       <use xlink:href=\"#DejaVuSans-50\"/>\r\n       <use x=\"63.623047\" xlink:href=\"#DejaVuSans-53\"/>\r\n      </g>\r\n     </g>\r\n    </g>\r\n   </g>\r\n   <g id=\"patch_3\">\r\n    <path d=\"M 26.925 224.64 \r\nL 26.925 7.2 \r\n\" style=\"fill:none;stroke:#000000;stroke-linecap:square;stroke-linejoin:miter;stroke-width:0.8;\"/>\r\n   </g>\r\n   <g id=\"patch_4\">\r\n    <path d=\"M 244.365 224.64 \r\nL 244.365 7.2 \r\n\" style=\"fill:none;stroke:#000000;stroke-linecap:square;stroke-linejoin:miter;stroke-width:0.8;\"/>\r\n   </g>\r\n   <g id=\"patch_5\">\r\n    <path d=\"M 26.925 224.64 \r\nL 244.365 224.64 \r\n\" style=\"fill:none;stroke:#000000;stroke-linecap:square;stroke-linejoin:miter;stroke-width:0.8;\"/>\r\n   </g>\r\n   <g id=\"patch_6\">\r\n    <path d=\"M 26.925 7.2 \r\nL 244.365 7.2 \r\n\" style=\"fill:none;stroke:#000000;stroke-linecap:square;stroke-linejoin:miter;stroke-width:0.8;\"/>\r\n   </g>\r\n  </g>\r\n </g>\r\n <defs>\r\n  <clipPath id=\"pb036b95703\">\r\n   <rect height=\"217.44\" width=\"217.44\" x=\"26.925\" y=\"7.2\"/>\r\n  </clipPath>\r\n </defs>\r\n</svg>\r\n",
      "image/png": "[encoded data removed]"
     },
     "metadata": {
      "needs_background": "light"
     }
    }
   ],
   "source": [
    "import matplotlib.pyplot as plt\n",
    "plt.imshow(train_images[42])\n",
    "print(train_labels[42])\n",
    "print(train_images[42])"
   ]
  },
  {
   "source": [
    "#### 归一化数据\n",
    "归一化数据，使数据处于0到1之间"
   ],
   "cell_type": "markdown",
   "metadata": {}
  },
  {
   "cell_type": "code",
   "execution_count": 7,
   "metadata": {},
   "outputs": [],
   "source": [
    "train_images = train_images / 255.0\n",
    "test_images = test_images / 255.0"
   ]
  },
  {
   "source": [
    "#### 设计模型\n",
    "输入层 --> 隐藏层 --> 输出层"
   ],
   "cell_type": "markdown",
   "metadata": {}
  },
  {
   "source": [
    "model = keras.Sequential([\n",
    "    keras.layers.Flatten(input_shape=(28, 28)),         # 扁平化，将数据展开为一维数据\n",
    "    keras.layers.Dense(128, activation=tf.nn.relu),     # 隐藏层\n",
    "    keras.layers.Dense(10, activation=tf.nn.softmax)\n",
    "])"
   ],
   "cell_type": "code",
   "metadata": {},
   "execution_count": 8,
   "outputs": []
  },
  {
   "source": [
    "#### 回调函数\n",
    "用于检查损失是否小于某个值，如果小于，则停止训练"
   ],
   "cell_type": "markdown",
   "metadata": {}
  },
  {
   "cell_type": "code",
   "execution_count": 9,
   "metadata": {},
   "outputs": [],
   "source": [
    "class myCallback(tf.keras.callbacks.Callback):\n",
    "    def on_epoch_end(self, epoch, logs={}):\n",
    "        if (logs.get('loss') < 0.01):\n",
    "            print(\"\\nLoss is low so cancelling training!\")\n",
    "            self.model.stop_training = True"
   ]
  },
  {
   "cell_type": "code",
   "execution_count": 10,
   "metadata": {},
   "outputs": [],
   "source": [
    "callbacks = myCallback()    #实例化回调函数类"
   ]
  },
  {
   "source": [
    "#### 设置优化器和损失函数"
   ],
   "cell_type": "markdown",
   "metadata": {}
  },
  {
   "cell_type": "code",
   "execution_count": 11,
   "metadata": {},
   "outputs": [
    {
     "output_type": "stream",
     "name": "stdout",
     "text": [
      "Epoch 1/100\n",
      "1875/1875 [==============================] - 2s 811us/step - loss: 0.4966\n",
      "Epoch 2/100\n",
      "1875/1875 [==============================] - 1s 781us/step - loss: 0.3714\n",
      "Epoch 3/100\n",
      "1875/1875 [==============================] - 1s 760us/step - loss: 0.3334\n",
      "Epoch 4/100\n",
      "1875/1875 [==============================] - 1s 774us/step - loss: 0.3120\n",
      "Epoch 5/100\n",
      "1875/1875 [==============================] - 1s 753us/step - loss: 0.2938\n",
      "Epoch 6/100\n",
      "1875/1875 [==============================] - 1s 755us/step - loss: 0.2808\n",
      "Epoch 7/100\n",
      "1875/1875 [==============================] - 1s 783us/step - loss: 0.2694\n",
      "Epoch 8/100\n",
      "1875/1875 [==============================] - 1s 777us/step - loss: 0.2563\n",
      "Epoch 9/100\n",
      "1875/1875 [==============================] - 1s 748us/step - loss: 0.2465\n",
      "Epoch 10/100\n",
      "1875/1875 [==============================] - 1s 758us/step - loss: 0.2379\n",
      "Epoch 11/100\n",
      "1875/1875 [==============================] - 1s 762us/step - loss: 0.2296\n",
      "Epoch 12/100\n",
      "1875/1875 [==============================] - 1s 763us/step - loss: 0.2219\n",
      "Epoch 13/100\n",
      "1875/1875 [==============================] - 1s 770us/step - loss: 0.2166\n",
      "Epoch 14/100\n",
      "1875/1875 [==============================] - 2s 817us/step - loss: 0.2089\n",
      "Epoch 15/100\n",
      "1875/1875 [==============================] - 1s 777us/step - loss: 0.2023\n",
      "Epoch 16/100\n",
      "1875/1875 [==============================] - 1s 791us/step - loss: 0.1964\n",
      "Epoch 17/100\n",
      "1875/1875 [==============================] - 1s 760us/step - loss: 0.1923\n",
      "Epoch 18/100\n",
      "1875/1875 [==============================] - 1s 761us/step - loss: 0.1877\n",
      "Epoch 19/100\n",
      "1875/1875 [==============================] - 1s 756us/step - loss: 0.1823\n",
      "Epoch 20/100\n",
      "1875/1875 [==============================] - 1s 744us/step - loss: 0.1770\n",
      "Epoch 21/100\n",
      "1875/1875 [==============================] - 1s 764us/step - loss: 0.1732\n",
      "Epoch 22/100\n",
      "1875/1875 [==============================] - 1s 775us/step - loss: 0.1694\n",
      "Epoch 23/100\n",
      "1875/1875 [==============================] - 1s 760us/step - loss: 0.1665\n",
      "Epoch 24/100\n",
      "1875/1875 [==============================] - 1s 759us/step - loss: 0.1615\n",
      "Epoch 25/100\n",
      "1875/1875 [==============================] - 1s 758us/step - loss: 0.1565\n",
      "Epoch 26/100\n",
      "1875/1875 [==============================] - 1s 750us/step - loss: 0.1538\n",
      "Epoch 27/100\n",
      "1875/1875 [==============================] - 1s 753us/step - loss: 0.1520\n",
      "Epoch 28/100\n",
      "1875/1875 [==============================] - 1s 763us/step - loss: 0.1465\n",
      "Epoch 29/100\n",
      "1875/1875 [==============================] - 1s 755us/step - loss: 0.1444\n",
      "Epoch 30/100\n",
      "1875/1875 [==============================] - 1s 788us/step - loss: 0.1401\n",
      "Epoch 31/100\n",
      "1875/1875 [==============================] - 1s 764us/step - loss: 0.1384\n",
      "Epoch 32/100\n",
      "1875/1875 [==============================] - 1s 799us/step - loss: 0.1360\n",
      "Epoch 33/100\n",
      "1875/1875 [==============================] - 2s 808us/step - loss: 0.1333\n",
      "Epoch 34/100\n",
      "1875/1875 [==============================] - 1s 788us/step - loss: 0.1291\n",
      "Epoch 35/100\n",
      "1875/1875 [==============================] - 2s 820us/step - loss: 0.1285\n",
      "Epoch 36/100\n",
      "1875/1875 [==============================] - 1s 784us/step - loss: 0.1258\n",
      "Epoch 37/100\n",
      "1875/1875 [==============================] - 1s 764us/step - loss: 0.1209\n",
      "Epoch 38/100\n",
      "1875/1875 [==============================] - 1s 759us/step - loss: 0.1211\n",
      "Epoch 39/100\n",
      "1875/1875 [==============================] - 1s 758us/step - loss: 0.1196\n",
      "Epoch 40/100\n",
      "1875/1875 [==============================] - 1s 771us/step - loss: 0.1155\n",
      "Epoch 41/100\n",
      "1875/1875 [==============================] - 1s 743us/step - loss: 0.1124\n",
      "Epoch 42/100\n",
      "1875/1875 [==============================] - 1s 762us/step - loss: 0.1125\n",
      "Epoch 43/100\n",
      "1875/1875 [==============================] - 1s 763us/step - loss: 0.1097\n",
      "Epoch 44/100\n",
      "1875/1875 [==============================] - 1s 746us/step - loss: 0.1075\n",
      "Epoch 45/100\n",
      "1875/1875 [==============================] - 1s 753us/step - loss: 0.1062\n",
      "Epoch 46/100\n",
      "1875/1875 [==============================] - 1s 761us/step - loss: 0.1040\n",
      "Epoch 47/100\n",
      "1875/1875 [==============================] - 1s 754us/step - loss: 0.1018\n",
      "Epoch 48/100\n",
      "1875/1875 [==============================] - 1s 754us/step - loss: 0.1020\n",
      "Epoch 49/100\n",
      "1875/1875 [==============================] - 1s 778us/step - loss: 0.0981\n",
      "Epoch 50/100\n",
      "1875/1875 [==============================] - 1s 757us/step - loss: 0.0974\n",
      "Epoch 51/100\n",
      "1875/1875 [==============================] - 1s 770us/step - loss: 0.0965\n",
      "Epoch 52/100\n",
      "1875/1875 [==============================] - 1s 750us/step - loss: 0.0921\n",
      "Epoch 53/100\n",
      "1875/1875 [==============================] - 1s 753us/step - loss: 0.0940\n",
      "Epoch 54/100\n",
      "1875/1875 [==============================] - 1s 752us/step - loss: 0.0902\n",
      "Epoch 55/100\n",
      "1875/1875 [==============================] - 1s 763us/step - loss: 0.0906\n",
      "Epoch 56/100\n",
      "1875/1875 [==============================] - 1s 766us/step - loss: 0.0898\n",
      "Epoch 57/100\n",
      "1875/1875 [==============================] - 1s 749us/step - loss: 0.0897\n",
      "Epoch 58/100\n",
      "1875/1875 [==============================] - 1s 770us/step - loss: 0.0848\n",
      "Epoch 59/100\n",
      "1875/1875 [==============================] - 1s 780us/step - loss: 0.0848\n",
      "Epoch 60/100\n",
      "1875/1875 [==============================] - 1s 764us/step - loss: 0.0864\n",
      "Epoch 61/100\n",
      "1875/1875 [==============================] - 2s 817us/step - loss: 0.0835\n",
      "Epoch 62/100\n",
      "1875/1875 [==============================] - 1s 788us/step - loss: 0.0805\n",
      "Epoch 63/100\n",
      "1875/1875 [==============================] - 1s 796us/step - loss: 0.0817\n",
      "Epoch 64/100\n",
      "1875/1875 [==============================] - 1s 780us/step - loss: 0.0805\n",
      "Epoch 65/100\n",
      "1875/1875 [==============================] - 1s 758us/step - loss: 0.0784\n",
      "Epoch 66/100\n",
      "1875/1875 [==============================] - 2s 806us/step - loss: 0.0760\n",
      "Epoch 67/100\n",
      "1875/1875 [==============================] - 2s 812us/step - loss: 0.0788\n",
      "Epoch 68/100\n",
      "1875/1875 [==============================] - 2s 846us/step - loss: 0.0734\n",
      "Epoch 69/100\n",
      "1875/1875 [==============================] - 1s 755us/step - loss: 0.0733\n",
      "Epoch 70/100\n",
      "1875/1875 [==============================] - 1s 771us/step - loss: 0.0745\n",
      "Epoch 71/100\n",
      "1875/1875 [==============================] - 1s 773us/step - loss: 0.0727\n",
      "Epoch 72/100\n",
      "1875/1875 [==============================] - 1s 779us/step - loss: 0.0690\n",
      "Epoch 73/100\n",
      "1875/1875 [==============================] - 1s 780us/step - loss: 0.0698\n",
      "Epoch 74/100\n",
      "1875/1875 [==============================] - 1s 796us/step - loss: 0.0700\n",
      "Epoch 75/100\n",
      "1875/1875 [==============================] - 1s 760us/step - loss: 0.0696\n",
      "Epoch 76/100\n",
      "1875/1875 [==============================] - 1s 788us/step - loss: 0.0692\n",
      "Epoch 77/100\n",
      "1875/1875 [==============================] - 1s 790us/step - loss: 0.0666\n",
      "Epoch 78/100\n",
      "1875/1875 [==============================] - 1s 794us/step - loss: 0.0653\n",
      "Epoch 79/100\n",
      "1875/1875 [==============================] - 1s 794us/step - loss: 0.0665\n",
      "Epoch 80/100\n",
      "1875/1875 [==============================] - 1s 761us/step - loss: 0.0645\n",
      "Epoch 81/100\n",
      "1875/1875 [==============================] - 1s 774us/step - loss: 0.0640\n",
      "Epoch 82/100\n",
      "1875/1875 [==============================] - 1s 776us/step - loss: 0.0635\n",
      "Epoch 83/100\n",
      "1875/1875 [==============================] - 1s 777us/step - loss: 0.0640\n",
      "Epoch 84/100\n",
      "1875/1875 [==============================] - 1s 784us/step - loss: 0.0605\n",
      "Epoch 85/100\n",
      "1875/1875 [==============================] - 1s 764us/step - loss: 0.0624\n",
      "Epoch 86/100\n",
      "1875/1875 [==============================] - 1s 757us/step - loss: 0.0604\n",
      "Epoch 87/100\n",
      "1875/1875 [==============================] - 1s 767us/step - loss: 0.0611\n",
      "Epoch 88/100\n",
      "1875/1875 [==============================] - 1s 752us/step - loss: 0.0595\n",
      "Epoch 89/100\n",
      "1875/1875 [==============================] - 1s 761us/step - loss: 0.0584\n",
      "Epoch 90/100\n",
      "1875/1875 [==============================] - 1s 774us/step - loss: 0.0591\n",
      "Epoch 91/100\n",
      "1875/1875 [==============================] - 1s 776us/step - loss: 0.0565\n",
      "Epoch 92/100\n",
      "1875/1875 [==============================] - 2s 841us/step - loss: 0.0591\n",
      "Epoch 93/100\n",
      "1875/1875 [==============================] - 1s 785us/step - loss: 0.0549\n",
      "Epoch 94/100\n",
      "1875/1875 [==============================] - 1s 765us/step - loss: 0.0558\n",
      "Epoch 95/100\n",
      "1875/1875 [==============================] - 1s 787us/step - loss: 0.0552\n",
      "Epoch 96/100\n",
      "1875/1875 [==============================] - 2s 832us/step - loss: 0.0570\n",
      "Epoch 97/100\n",
      "1875/1875 [==============================] - 1s 773us/step - loss: 0.0525\n",
      "Epoch 98/100\n",
      "1875/1875 [==============================] - 1s 790us/step - loss: 0.0537\n",
      "Epoch 99/100\n",
      "1875/1875 [==============================] - 1s 785us/step - loss: 0.0548\n",
      "Epoch 100/100\n",
      "1875/1875 [==============================] - 1s 777us/step - loss: 0.0537\n"
     ]
    },
    {
     "output_type": "execute_result",
     "data": {
      "text/plain": [
       "<tensorflow.python.keras.callbacks.History at 0x25377ee9828>"
      ]
     },
     "metadata": {},
     "execution_count": 11
    }
   ],
   "source": [
    "model.compile(optimizer=tf.optimizers.Adam(),\n",
    "              loss = 'sparse_categorical_crossentropy')\n",
    "model.fit(train_images, train_labels, epochs=100, callbacks=[callbacks])"
   ]
  },
  {
   "source": [
    "#### 验证集"
   ],
   "cell_type": "markdown",
   "metadata": {}
  },
  {
   "cell_type": "code",
   "execution_count": 12,
   "metadata": {},
   "outputs": [
    {
     "output_type": "stream",
     "name": "stdout",
     "text": [
      "313/313 [==============================] - 0s 681us/step - loss: 0.7673\n"
     ]
    },
    {
     "output_type": "execute_result",
     "data": {
      "text/plain": [
       "0.7673160433769226"
      ]
     },
     "metadata": {},
     "execution_count": 12
    }
   ],
   "source": [
    "model.evaluate(test_images, test_labels)"
   ]
  },
  {
   "cell_type": "code",
   "execution_count": null,
   "metadata": {},
   "outputs": [],
   "source": []
  }
 ]
}